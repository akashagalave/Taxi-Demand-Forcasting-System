{
 "cells": [
  {
   "cell_type": "code",
   "execution_count": 43,
   "id": "8687b061-828a-4bce-9037-5af24dae03f6",
   "metadata": {},
   "outputs": [],
   "source": [
    "import pandas as pd\n",
    "import numpy as np\n",
    "\n",
    "from sklearn.preprocessing import OneHotEncoder\n",
    "from sklearn.compose import ColumnTransformer\n",
    "from sklearn.linear_model import LinearRegression, Ridge\n",
    "from sklearn.pipeline import Pipeline\n",
    "from sklearn.metrics import mean_absolute_percentage_error\n",
    "from sklearn.svm import SVR\n",
    "\n",
    "from sklearn.ensemble import RandomForestRegressor, GradientBoostingRegressor\n",
    "from xgboost import XGBRegressor\n",
    "\n",
    "import mlflow"
   ]
  },
  {
   "cell_type": "code",
   "execution_count": 44,
   "id": "199ade0f-b048-4ae9-825e-cebc585dc557",
   "metadata": {},
   "outputs": [],
   "source": [
    "# set the dagshub tracking server\n",
    "\n",
    "mlflow.set_tracking_uri(\"https://dagshub.com/akashagalaveaaa1/Taxi-Demand-Prediction-System.mlflow\")\n"
   ]
  },
  {
   "cell_type": "code",
   "execution_count": 45,
   "id": "ba0096fe-8de3-4adf-ba82-aaa2371da492",
   "metadata": {},
   "outputs": [
    {
     "data": {
      "text/html": [
       "<pre style=\"white-space:pre;overflow-x:auto;line-height:normal;font-family:Menlo,'DejaVu Sans Mono',consolas,'Courier New',monospace\">Initialized MLflow to track repo <span style=\"color: #008000; text-decoration-color: #008000\">\"akashagalaveaaa1/Taxi-Demand-Prediction-System\"</span>\n",
       "</pre>\n"
      ],
      "text/plain": [
       "Initialized MLflow to track repo \u001b[32m\"akashagalaveaaa1/Taxi-Demand-Prediction-System\"\u001b[0m\n"
      ]
     },
     "metadata": {},
     "output_type": "display_data"
    },
    {
     "data": {
      "text/html": [
       "<pre style=\"white-space:pre;overflow-x:auto;line-height:normal;font-family:Menlo,'DejaVu Sans Mono',consolas,'Courier New',monospace\">Repository akashagalaveaaa1/Taxi-Demand-Prediction-System initialized!\n",
       "</pre>\n"
      ],
      "text/plain": [
       "Repository akashagalaveaaa1/Taxi-Demand-Prediction-System initialized!\n"
      ]
     },
     "metadata": {},
     "output_type": "display_data"
    }
   ],
   "source": [
    "import dagshub\n",
    "dagshub.init(repo_owner='akashagalaveaaa1', repo_name='Taxi-Demand-Prediction-System', mlflow=True)"
   ]
  },
  {
   "cell_type": "code",
   "execution_count": 46,
   "id": "23d5d0dd-534f-4610-a0b8-d3dad4320f50",
   "metadata": {},
   "outputs": [
    {
     "data": {
      "text/html": [
       "<div>\n",
       "<style scoped>\n",
       "    .dataframe tbody tr th:only-of-type {\n",
       "        vertical-align: middle;\n",
       "    }\n",
       "\n",
       "    .dataframe tbody tr th {\n",
       "        vertical-align: top;\n",
       "    }\n",
       "\n",
       "    .dataframe thead th {\n",
       "        text-align: right;\n",
       "    }\n",
       "</style>\n",
       "<table border=\"1\" class=\"dataframe\">\n",
       "  <thead>\n",
       "    <tr style=\"text-align: right;\">\n",
       "      <th></th>\n",
       "      <th>lag_1</th>\n",
       "      <th>lag_2</th>\n",
       "      <th>lag_3</th>\n",
       "      <th>lag_4</th>\n",
       "      <th>region</th>\n",
       "      <th>total_pickups</th>\n",
       "      <th>avg_pickups</th>\n",
       "      <th>day_of_week</th>\n",
       "    </tr>\n",
       "    <tr>\n",
       "      <th>tpep_pickup_datetime</th>\n",
       "      <th></th>\n",
       "      <th></th>\n",
       "      <th></th>\n",
       "      <th></th>\n",
       "      <th></th>\n",
       "      <th></th>\n",
       "      <th></th>\n",
       "      <th></th>\n",
       "    </tr>\n",
       "  </thead>\n",
       "  <tbody>\n",
       "    <tr>\n",
       "      <th>2016-01-01 01:00:00</th>\n",
       "      <td>160.0</td>\n",
       "      <td>149.0</td>\n",
       "      <td>120.0</td>\n",
       "      <td>58.0</td>\n",
       "      <td>0</td>\n",
       "      <td>187</td>\n",
       "      <td>161.0</td>\n",
       "      <td>4</td>\n",
       "    </tr>\n",
       "    <tr>\n",
       "      <th>2016-01-01 01:15:00</th>\n",
       "      <td>187.0</td>\n",
       "      <td>160.0</td>\n",
       "      <td>149.0</td>\n",
       "      <td>120.0</td>\n",
       "      <td>0</td>\n",
       "      <td>194</td>\n",
       "      <td>175.0</td>\n",
       "      <td>4</td>\n",
       "    </tr>\n",
       "    <tr>\n",
       "      <th>2016-01-01 01:30:00</th>\n",
       "      <td>194.0</td>\n",
       "      <td>187.0</td>\n",
       "      <td>160.0</td>\n",
       "      <td>149.0</td>\n",
       "      <td>0</td>\n",
       "      <td>180</td>\n",
       "      <td>177.0</td>\n",
       "      <td>4</td>\n",
       "    </tr>\n",
       "    <tr>\n",
       "      <th>2016-01-01 01:45:00</th>\n",
       "      <td>180.0</td>\n",
       "      <td>194.0</td>\n",
       "      <td>187.0</td>\n",
       "      <td>160.0</td>\n",
       "      <td>0</td>\n",
       "      <td>197</td>\n",
       "      <td>185.0</td>\n",
       "      <td>4</td>\n",
       "    </tr>\n",
       "    <tr>\n",
       "      <th>2016-01-01 02:00:00</th>\n",
       "      <td>197.0</td>\n",
       "      <td>180.0</td>\n",
       "      <td>194.0</td>\n",
       "      <td>187.0</td>\n",
       "      <td>0</td>\n",
       "      <td>185</td>\n",
       "      <td>185.0</td>\n",
       "      <td>4</td>\n",
       "    </tr>\n",
       "    <tr>\n",
       "      <th>...</th>\n",
       "      <td>...</td>\n",
       "      <td>...</td>\n",
       "      <td>...</td>\n",
       "      <td>...</td>\n",
       "      <td>...</td>\n",
       "      <td>...</td>\n",
       "      <td>...</td>\n",
       "      <td>...</td>\n",
       "    </tr>\n",
       "    <tr>\n",
       "      <th>2016-02-29 22:45:00</th>\n",
       "      <td>15.0</td>\n",
       "      <td>9.0</td>\n",
       "      <td>11.0</td>\n",
       "      <td>11.0</td>\n",
       "      <td>29</td>\n",
       "      <td>12</td>\n",
       "      <td>12.0</td>\n",
       "      <td>0</td>\n",
       "    </tr>\n",
       "    <tr>\n",
       "      <th>2016-02-29 23:00:00</th>\n",
       "      <td>12.0</td>\n",
       "      <td>15.0</td>\n",
       "      <td>9.0</td>\n",
       "      <td>11.0</td>\n",
       "      <td>29</td>\n",
       "      <td>17</td>\n",
       "      <td>14.0</td>\n",
       "      <td>0</td>\n",
       "    </tr>\n",
       "    <tr>\n",
       "      <th>2016-02-29 23:15:00</th>\n",
       "      <td>17.0</td>\n",
       "      <td>12.0</td>\n",
       "      <td>15.0</td>\n",
       "      <td>9.0</td>\n",
       "      <td>29</td>\n",
       "      <td>15</td>\n",
       "      <td>14.0</td>\n",
       "      <td>0</td>\n",
       "    </tr>\n",
       "    <tr>\n",
       "      <th>2016-02-29 23:30:00</th>\n",
       "      <td>15.0</td>\n",
       "      <td>17.0</td>\n",
       "      <td>12.0</td>\n",
       "      <td>15.0</td>\n",
       "      <td>29</td>\n",
       "      <td>15</td>\n",
       "      <td>15.0</td>\n",
       "      <td>0</td>\n",
       "    </tr>\n",
       "    <tr>\n",
       "      <th>2016-02-29 23:45:00</th>\n",
       "      <td>15.0</td>\n",
       "      <td>15.0</td>\n",
       "      <td>17.0</td>\n",
       "      <td>12.0</td>\n",
       "      <td>29</td>\n",
       "      <td>12</td>\n",
       "      <td>14.0</td>\n",
       "      <td>0</td>\n",
       "    </tr>\n",
       "  </tbody>\n",
       "</table>\n",
       "<p>172680 rows × 8 columns</p>\n",
       "</div>"
      ],
      "text/plain": [
       "                      lag_1  lag_2  lag_3  lag_4  region  total_pickups  \\\n",
       "tpep_pickup_datetime                                                      \n",
       "2016-01-01 01:00:00   160.0  149.0  120.0   58.0       0            187   \n",
       "2016-01-01 01:15:00   187.0  160.0  149.0  120.0       0            194   \n",
       "2016-01-01 01:30:00   194.0  187.0  160.0  149.0       0            180   \n",
       "2016-01-01 01:45:00   180.0  194.0  187.0  160.0       0            197   \n",
       "2016-01-01 02:00:00   197.0  180.0  194.0  187.0       0            185   \n",
       "...                     ...    ...    ...    ...     ...            ...   \n",
       "2016-02-29 22:45:00    15.0    9.0   11.0   11.0      29             12   \n",
       "2016-02-29 23:00:00    12.0   15.0    9.0   11.0      29             17   \n",
       "2016-02-29 23:15:00    17.0   12.0   15.0    9.0      29             15   \n",
       "2016-02-29 23:30:00    15.0   17.0   12.0   15.0      29             15   \n",
       "2016-02-29 23:45:00    15.0   15.0   17.0   12.0      29             12   \n",
       "\n",
       "                      avg_pickups  day_of_week  \n",
       "tpep_pickup_datetime                            \n",
       "2016-01-01 01:00:00         161.0            4  \n",
       "2016-01-01 01:15:00         175.0            4  \n",
       "2016-01-01 01:30:00         177.0            4  \n",
       "2016-01-01 01:45:00         185.0            4  \n",
       "2016-01-01 02:00:00         185.0            4  \n",
       "...                           ...          ...  \n",
       "2016-02-29 22:45:00          12.0            0  \n",
       "2016-02-29 23:00:00          14.0            0  \n",
       "2016-02-29 23:15:00          14.0            0  \n",
       "2016-02-29 23:30:00          15.0            0  \n",
       "2016-02-29 23:45:00          14.0            0  \n",
       "\n",
       "[172680 rows x 8 columns]"
      ]
     },
     "execution_count": 46,
     "metadata": {},
     "output_type": "execute_result"
    }
   ],
   "source": [
    "# load the training and test data\n",
    "\n",
    "train_data_path = \"../data/processed/train.csv\"\n",
    "test_data_path = \"../data/processed/test.csv\"\n",
    "\n",
    "train_df = pd.read_csv(train_data_path, parse_dates=[\"tpep_pickup_datetime\"]).set_index(\"tpep_pickup_datetime\")\n",
    "\n",
    "test_df = pd.read_csv(test_data_path, parse_dates=[\"tpep_pickup_datetime\"]).set_index(\"tpep_pickup_datetime\")\n",
    "\n",
    "train_df"
   ]
  },
  {
   "cell_type": "code",
   "execution_count": 47,
   "id": "2f1e4ba9-0aa9-4696-a0c2-a75a1cc9f4a5",
   "metadata": {},
   "outputs": [
    {
     "data": {
      "text/plain": [
       "lag_1            0\n",
       "lag_2            0\n",
       "lag_3            0\n",
       "lag_4            0\n",
       "region           0\n",
       "total_pickups    0\n",
       "avg_pickups      0\n",
       "day_of_week      0\n",
       "dtype: int64"
      ]
     },
     "execution_count": 47,
     "metadata": {},
     "output_type": "execute_result"
    }
   ],
   "source": [
    "# missing value in training data\n",
    "\n",
    "train_df.isna().sum()"
   ]
  },
  {
   "cell_type": "code",
   "execution_count": 48,
   "id": "5aa0cde0-34d7-49b4-8a7e-b981d1ba0e4b",
   "metadata": {},
   "outputs": [
    {
     "data": {
      "text/plain": [
       "lag_1            0\n",
       "lag_2            0\n",
       "lag_3            0\n",
       "lag_4            0\n",
       "region           0\n",
       "total_pickups    0\n",
       "avg_pickups      0\n",
       "day_of_week      0\n",
       "dtype: int64"
      ]
     },
     "execution_count": 48,
     "metadata": {},
     "output_type": "execute_result"
    }
   ],
   "source": [
    "# missing values in the test data\n",
    "\n",
    "test_df.isna().sum()"
   ]
  },
  {
   "cell_type": "code",
   "execution_count": 49,
   "id": "858a8af9-7618-4464-b418-7227f2a4dedd",
   "metadata": {},
   "outputs": [],
   "source": [
    "# make X_train and y_train\n",
    "\n",
    "X_train = train_df.drop(columns=[\"total_pickups\"])\n",
    "\n",
    "y_train = train_df[\"total_pickups\"]"
   ]
  },
  {
   "cell_type": "code",
   "execution_count": 50,
   "id": "6c7fb655-8d46-4500-b1c3-dfe4d05dccf0",
   "metadata": {},
   "outputs": [
    {
     "data": {
      "text/html": [
       "<div>\n",
       "<style scoped>\n",
       "    .dataframe tbody tr th:only-of-type {\n",
       "        vertical-align: middle;\n",
       "    }\n",
       "\n",
       "    .dataframe tbody tr th {\n",
       "        vertical-align: top;\n",
       "    }\n",
       "\n",
       "    .dataframe thead th {\n",
       "        text-align: right;\n",
       "    }\n",
       "</style>\n",
       "<table border=\"1\" class=\"dataframe\">\n",
       "  <thead>\n",
       "    <tr style=\"text-align: right;\">\n",
       "      <th></th>\n",
       "      <th>lag_1</th>\n",
       "      <th>lag_2</th>\n",
       "      <th>lag_3</th>\n",
       "      <th>lag_4</th>\n",
       "      <th>region</th>\n",
       "      <th>avg_pickups</th>\n",
       "      <th>day_of_week</th>\n",
       "    </tr>\n",
       "    <tr>\n",
       "      <th>tpep_pickup_datetime</th>\n",
       "      <th></th>\n",
       "      <th></th>\n",
       "      <th></th>\n",
       "      <th></th>\n",
       "      <th></th>\n",
       "      <th></th>\n",
       "      <th></th>\n",
       "    </tr>\n",
       "  </thead>\n",
       "  <tbody>\n",
       "    <tr>\n",
       "      <th>2016-01-01 01:00:00</th>\n",
       "      <td>160.0</td>\n",
       "      <td>149.0</td>\n",
       "      <td>120.0</td>\n",
       "      <td>58.0</td>\n",
       "      <td>0</td>\n",
       "      <td>161.0</td>\n",
       "      <td>4</td>\n",
       "    </tr>\n",
       "    <tr>\n",
       "      <th>2016-01-01 01:15:00</th>\n",
       "      <td>187.0</td>\n",
       "      <td>160.0</td>\n",
       "      <td>149.0</td>\n",
       "      <td>120.0</td>\n",
       "      <td>0</td>\n",
       "      <td>175.0</td>\n",
       "      <td>4</td>\n",
       "    </tr>\n",
       "    <tr>\n",
       "      <th>2016-01-01 01:30:00</th>\n",
       "      <td>194.0</td>\n",
       "      <td>187.0</td>\n",
       "      <td>160.0</td>\n",
       "      <td>149.0</td>\n",
       "      <td>0</td>\n",
       "      <td>177.0</td>\n",
       "      <td>4</td>\n",
       "    </tr>\n",
       "    <tr>\n",
       "      <th>2016-01-01 01:45:00</th>\n",
       "      <td>180.0</td>\n",
       "      <td>194.0</td>\n",
       "      <td>187.0</td>\n",
       "      <td>160.0</td>\n",
       "      <td>0</td>\n",
       "      <td>185.0</td>\n",
       "      <td>4</td>\n",
       "    </tr>\n",
       "    <tr>\n",
       "      <th>2016-01-01 02:00:00</th>\n",
       "      <td>197.0</td>\n",
       "      <td>180.0</td>\n",
       "      <td>194.0</td>\n",
       "      <td>187.0</td>\n",
       "      <td>0</td>\n",
       "      <td>185.0</td>\n",
       "      <td>4</td>\n",
       "    </tr>\n",
       "  </tbody>\n",
       "</table>\n",
       "</div>"
      ],
      "text/plain": [
       "                      lag_1  lag_2  lag_3  lag_4  region  avg_pickups  \\\n",
       "tpep_pickup_datetime                                                    \n",
       "2016-01-01 01:00:00   160.0  149.0  120.0   58.0       0        161.0   \n",
       "2016-01-01 01:15:00   187.0  160.0  149.0  120.0       0        175.0   \n",
       "2016-01-01 01:30:00   194.0  187.0  160.0  149.0       0        177.0   \n",
       "2016-01-01 01:45:00   180.0  194.0  187.0  160.0       0        185.0   \n",
       "2016-01-01 02:00:00   197.0  180.0  194.0  187.0       0        185.0   \n",
       "\n",
       "                      day_of_week  \n",
       "tpep_pickup_datetime               \n",
       "2016-01-01 01:00:00             4  \n",
       "2016-01-01 01:15:00             4  \n",
       "2016-01-01 01:30:00             4  \n",
       "2016-01-01 01:45:00             4  \n",
       "2016-01-01 02:00:00             4  "
      ]
     },
     "execution_count": 50,
     "metadata": {},
     "output_type": "execute_result"
    }
   ],
   "source": [
    "X_train.head()"
   ]
  },
  {
   "cell_type": "code",
   "execution_count": 51,
   "id": "b9ec8262-9791-4289-a8a6-7f852bc6b2a0",
   "metadata": {},
   "outputs": [],
   "source": [
    "# make X_test and y_test\n",
    "\n",
    "X_test = test_df.drop(columns=[\"total_pickups\"])\n",
    "\n",
    "y_test = test_df[\"total_pickups\"]"
   ]
  },
  {
   "cell_type": "code",
   "execution_count": 52,
   "id": "5e9027a1-9ab2-4f08-9701-76e105706d13",
   "metadata": {},
   "outputs": [
    {
     "data": {
      "text/html": [
       "<div>\n",
       "<style scoped>\n",
       "    .dataframe tbody tr th:only-of-type {\n",
       "        vertical-align: middle;\n",
       "    }\n",
       "\n",
       "    .dataframe tbody tr th {\n",
       "        vertical-align: top;\n",
       "    }\n",
       "\n",
       "    .dataframe thead th {\n",
       "        text-align: right;\n",
       "    }\n",
       "</style>\n",
       "<table border=\"1\" class=\"dataframe\">\n",
       "  <thead>\n",
       "    <tr style=\"text-align: right;\">\n",
       "      <th></th>\n",
       "      <th>lag_1</th>\n",
       "      <th>lag_2</th>\n",
       "      <th>lag_3</th>\n",
       "      <th>lag_4</th>\n",
       "      <th>region</th>\n",
       "      <th>avg_pickups</th>\n",
       "      <th>day_of_week</th>\n",
       "    </tr>\n",
       "    <tr>\n",
       "      <th>tpep_pickup_datetime</th>\n",
       "      <th></th>\n",
       "      <th></th>\n",
       "      <th></th>\n",
       "      <th></th>\n",
       "      <th></th>\n",
       "      <th></th>\n",
       "      <th></th>\n",
       "    </tr>\n",
       "  </thead>\n",
       "  <tbody>\n",
       "    <tr>\n",
       "      <th>2016-03-01 00:00:00</th>\n",
       "      <td>36.0</td>\n",
       "      <td>44.0</td>\n",
       "      <td>31.0</td>\n",
       "      <td>29.0</td>\n",
       "      <td>0</td>\n",
       "      <td>39.0</td>\n",
       "      <td>1</td>\n",
       "    </tr>\n",
       "    <tr>\n",
       "      <th>2016-03-01 00:15:00</th>\n",
       "      <td>41.0</td>\n",
       "      <td>36.0</td>\n",
       "      <td>44.0</td>\n",
       "      <td>31.0</td>\n",
       "      <td>0</td>\n",
       "      <td>37.0</td>\n",
       "      <td>1</td>\n",
       "    </tr>\n",
       "    <tr>\n",
       "      <th>2016-03-01 00:30:00</th>\n",
       "      <td>35.0</td>\n",
       "      <td>41.0</td>\n",
       "      <td>36.0</td>\n",
       "      <td>44.0</td>\n",
       "      <td>0</td>\n",
       "      <td>41.0</td>\n",
       "      <td>1</td>\n",
       "    </tr>\n",
       "    <tr>\n",
       "      <th>2016-03-01 00:45:00</th>\n",
       "      <td>47.0</td>\n",
       "      <td>35.0</td>\n",
       "      <td>41.0</td>\n",
       "      <td>36.0</td>\n",
       "      <td>0</td>\n",
       "      <td>38.0</td>\n",
       "      <td>1</td>\n",
       "    </tr>\n",
       "    <tr>\n",
       "      <th>2016-03-01 01:00:00</th>\n",
       "      <td>34.0</td>\n",
       "      <td>47.0</td>\n",
       "      <td>35.0</td>\n",
       "      <td>41.0</td>\n",
       "      <td>0</td>\n",
       "      <td>35.0</td>\n",
       "      <td>1</td>\n",
       "    </tr>\n",
       "  </tbody>\n",
       "</table>\n",
       "</div>"
      ],
      "text/plain": [
       "                      lag_1  lag_2  lag_3  lag_4  region  avg_pickups  \\\n",
       "tpep_pickup_datetime                                                    \n",
       "2016-03-01 00:00:00    36.0   44.0   31.0   29.0       0         39.0   \n",
       "2016-03-01 00:15:00    41.0   36.0   44.0   31.0       0         37.0   \n",
       "2016-03-01 00:30:00    35.0   41.0   36.0   44.0       0         41.0   \n",
       "2016-03-01 00:45:00    47.0   35.0   41.0   36.0       0         38.0   \n",
       "2016-03-01 01:00:00    34.0   47.0   35.0   41.0       0         35.0   \n",
       "\n",
       "                      day_of_week  \n",
       "tpep_pickup_datetime               \n",
       "2016-03-01 00:00:00             1  \n",
       "2016-03-01 00:15:00             1  \n",
       "2016-03-01 00:30:00             1  \n",
       "2016-03-01 00:45:00             1  \n",
       "2016-03-01 01:00:00             1  "
      ]
     },
     "execution_count": 52,
     "metadata": {},
     "output_type": "execute_result"
    }
   ],
   "source": [
    "X_test.head()"
   ]
  },
  {
   "cell_type": "code",
   "execution_count": 53,
   "id": "afa08d89-41cf-466b-8154-d319638896cb",
   "metadata": {},
   "outputs": [],
   "source": [
    "from sklearn import set_config\n",
    "\n",
    "set_config(transform_output=\"pandas\")"
   ]
  },
  {
   "cell_type": "code",
   "execution_count": 54,
   "id": "ffa4afda-3d3f-4784-88de-cb0f8019b619",
   "metadata": {},
   "outputs": [],
   "source": [
    "# encode the data\n",
    "\n",
    "encoder = ColumnTransformer([\n",
    "    (\"ohe\", OneHotEncoder(drop=\"first\",sparse_output=False), [\"region\",\"day_of_week\"])\n",
    "], remainder=\"passthrough\", n_jobs=-1,force_int_remainder_cols=False)"
   ]
  },
  {
   "cell_type": "code",
   "execution_count": 55,
   "id": "327363cc-f2b4-4771-96fd-a0c98887ef09",
   "metadata": {},
   "outputs": [
    {
     "data": {
      "text/html": [
       "<style>#sk-container-id-2 {\n",
       "  /* Definition of color scheme common for light and dark mode */\n",
       "  --sklearn-color-text: #000;\n",
       "  --sklearn-color-text-muted: #666;\n",
       "  --sklearn-color-line: gray;\n",
       "  /* Definition of color scheme for unfitted estimators */\n",
       "  --sklearn-color-unfitted-level-0: #fff5e6;\n",
       "  --sklearn-color-unfitted-level-1: #f6e4d2;\n",
       "  --sklearn-color-unfitted-level-2: #ffe0b3;\n",
       "  --sklearn-color-unfitted-level-3: chocolate;\n",
       "  /* Definition of color scheme for fitted estimators */\n",
       "  --sklearn-color-fitted-level-0: #f0f8ff;\n",
       "  --sklearn-color-fitted-level-1: #d4ebff;\n",
       "  --sklearn-color-fitted-level-2: #b3dbfd;\n",
       "  --sklearn-color-fitted-level-3: cornflowerblue;\n",
       "\n",
       "  /* Specific color for light theme */\n",
       "  --sklearn-color-text-on-default-background: var(--sg-text-color, var(--theme-code-foreground, var(--jp-content-font-color1, black)));\n",
       "  --sklearn-color-background: var(--sg-background-color, var(--theme-background, var(--jp-layout-color0, white)));\n",
       "  --sklearn-color-border-box: var(--sg-text-color, var(--theme-code-foreground, var(--jp-content-font-color1, black)));\n",
       "  --sklearn-color-icon: #696969;\n",
       "\n",
       "  @media (prefers-color-scheme: dark) {\n",
       "    /* Redefinition of color scheme for dark theme */\n",
       "    --sklearn-color-text-on-default-background: var(--sg-text-color, var(--theme-code-foreground, var(--jp-content-font-color1, white)));\n",
       "    --sklearn-color-background: var(--sg-background-color, var(--theme-background, var(--jp-layout-color0, #111)));\n",
       "    --sklearn-color-border-box: var(--sg-text-color, var(--theme-code-foreground, var(--jp-content-font-color1, white)));\n",
       "    --sklearn-color-icon: #878787;\n",
       "  }\n",
       "}\n",
       "\n",
       "#sk-container-id-2 {\n",
       "  color: var(--sklearn-color-text);\n",
       "}\n",
       "\n",
       "#sk-container-id-2 pre {\n",
       "  padding: 0;\n",
       "}\n",
       "\n",
       "#sk-container-id-2 input.sk-hidden--visually {\n",
       "  border: 0;\n",
       "  clip: rect(1px 1px 1px 1px);\n",
       "  clip: rect(1px, 1px, 1px, 1px);\n",
       "  height: 1px;\n",
       "  margin: -1px;\n",
       "  overflow: hidden;\n",
       "  padding: 0;\n",
       "  position: absolute;\n",
       "  width: 1px;\n",
       "}\n",
       "\n",
       "#sk-container-id-2 div.sk-dashed-wrapped {\n",
       "  border: 1px dashed var(--sklearn-color-line);\n",
       "  margin: 0 0.4em 0.5em 0.4em;\n",
       "  box-sizing: border-box;\n",
       "  padding-bottom: 0.4em;\n",
       "  background-color: var(--sklearn-color-background);\n",
       "}\n",
       "\n",
       "#sk-container-id-2 div.sk-container {\n",
       "  /* jupyter's `normalize.less` sets `[hidden] { display: none; }`\n",
       "     but bootstrap.min.css set `[hidden] { display: none !important; }`\n",
       "     so we also need the `!important` here to be able to override the\n",
       "     default hidden behavior on the sphinx rendered scikit-learn.org.\n",
       "     See: https://github.com/scikit-learn/scikit-learn/issues/21755 */\n",
       "  display: inline-block !important;\n",
       "  position: relative;\n",
       "}\n",
       "\n",
       "#sk-container-id-2 div.sk-text-repr-fallback {\n",
       "  display: none;\n",
       "}\n",
       "\n",
       "div.sk-parallel-item,\n",
       "div.sk-serial,\n",
       "div.sk-item {\n",
       "  /* draw centered vertical line to link estimators */\n",
       "  background-image: linear-gradient(var(--sklearn-color-text-on-default-background), var(--sklearn-color-text-on-default-background));\n",
       "  background-size: 2px 100%;\n",
       "  background-repeat: no-repeat;\n",
       "  background-position: center center;\n",
       "}\n",
       "\n",
       "/* Parallel-specific style estimator block */\n",
       "\n",
       "#sk-container-id-2 div.sk-parallel-item::after {\n",
       "  content: \"\";\n",
       "  width: 100%;\n",
       "  border-bottom: 2px solid var(--sklearn-color-text-on-default-background);\n",
       "  flex-grow: 1;\n",
       "}\n",
       "\n",
       "#sk-container-id-2 div.sk-parallel {\n",
       "  display: flex;\n",
       "  align-items: stretch;\n",
       "  justify-content: center;\n",
       "  background-color: var(--sklearn-color-background);\n",
       "  position: relative;\n",
       "}\n",
       "\n",
       "#sk-container-id-2 div.sk-parallel-item {\n",
       "  display: flex;\n",
       "  flex-direction: column;\n",
       "}\n",
       "\n",
       "#sk-container-id-2 div.sk-parallel-item:first-child::after {\n",
       "  align-self: flex-end;\n",
       "  width: 50%;\n",
       "}\n",
       "\n",
       "#sk-container-id-2 div.sk-parallel-item:last-child::after {\n",
       "  align-self: flex-start;\n",
       "  width: 50%;\n",
       "}\n",
       "\n",
       "#sk-container-id-2 div.sk-parallel-item:only-child::after {\n",
       "  width: 0;\n",
       "}\n",
       "\n",
       "/* Serial-specific style estimator block */\n",
       "\n",
       "#sk-container-id-2 div.sk-serial {\n",
       "  display: flex;\n",
       "  flex-direction: column;\n",
       "  align-items: center;\n",
       "  background-color: var(--sklearn-color-background);\n",
       "  padding-right: 1em;\n",
       "  padding-left: 1em;\n",
       "}\n",
       "\n",
       "\n",
       "/* Toggleable style: style used for estimator/Pipeline/ColumnTransformer box that is\n",
       "clickable and can be expanded/collapsed.\n",
       "- Pipeline and ColumnTransformer use this feature and define the default style\n",
       "- Estimators will overwrite some part of the style using the `sk-estimator` class\n",
       "*/\n",
       "\n",
       "/* Pipeline and ColumnTransformer style (default) */\n",
       "\n",
       "#sk-container-id-2 div.sk-toggleable {\n",
       "  /* Default theme specific background. It is overwritten whether we have a\n",
       "  specific estimator or a Pipeline/ColumnTransformer */\n",
       "  background-color: var(--sklearn-color-background);\n",
       "}\n",
       "\n",
       "/* Toggleable label */\n",
       "#sk-container-id-2 label.sk-toggleable__label {\n",
       "  cursor: pointer;\n",
       "  display: flex;\n",
       "  width: 100%;\n",
       "  margin-bottom: 0;\n",
       "  padding: 0.5em;\n",
       "  box-sizing: border-box;\n",
       "  text-align: center;\n",
       "  align-items: start;\n",
       "  justify-content: space-between;\n",
       "  gap: 0.5em;\n",
       "}\n",
       "\n",
       "#sk-container-id-2 label.sk-toggleable__label .caption {\n",
       "  font-size: 0.6rem;\n",
       "  font-weight: lighter;\n",
       "  color: var(--sklearn-color-text-muted);\n",
       "}\n",
       "\n",
       "#sk-container-id-2 label.sk-toggleable__label-arrow:before {\n",
       "  /* Arrow on the left of the label */\n",
       "  content: \"▸\";\n",
       "  float: left;\n",
       "  margin-right: 0.25em;\n",
       "  color: var(--sklearn-color-icon);\n",
       "}\n",
       "\n",
       "#sk-container-id-2 label.sk-toggleable__label-arrow:hover:before {\n",
       "  color: var(--sklearn-color-text);\n",
       "}\n",
       "\n",
       "/* Toggleable content - dropdown */\n",
       "\n",
       "#sk-container-id-2 div.sk-toggleable__content {\n",
       "  max-height: 0;\n",
       "  max-width: 0;\n",
       "  overflow: hidden;\n",
       "  text-align: left;\n",
       "  /* unfitted */\n",
       "  background-color: var(--sklearn-color-unfitted-level-0);\n",
       "}\n",
       "\n",
       "#sk-container-id-2 div.sk-toggleable__content.fitted {\n",
       "  /* fitted */\n",
       "  background-color: var(--sklearn-color-fitted-level-0);\n",
       "}\n",
       "\n",
       "#sk-container-id-2 div.sk-toggleable__content pre {\n",
       "  margin: 0.2em;\n",
       "  border-radius: 0.25em;\n",
       "  color: var(--sklearn-color-text);\n",
       "  /* unfitted */\n",
       "  background-color: var(--sklearn-color-unfitted-level-0);\n",
       "}\n",
       "\n",
       "#sk-container-id-2 div.sk-toggleable__content.fitted pre {\n",
       "  /* unfitted */\n",
       "  background-color: var(--sklearn-color-fitted-level-0);\n",
       "}\n",
       "\n",
       "#sk-container-id-2 input.sk-toggleable__control:checked~div.sk-toggleable__content {\n",
       "  /* Expand drop-down */\n",
       "  max-height: 200px;\n",
       "  max-width: 100%;\n",
       "  overflow: auto;\n",
       "}\n",
       "\n",
       "#sk-container-id-2 input.sk-toggleable__control:checked~label.sk-toggleable__label-arrow:before {\n",
       "  content: \"▾\";\n",
       "}\n",
       "\n",
       "/* Pipeline/ColumnTransformer-specific style */\n",
       "\n",
       "#sk-container-id-2 div.sk-label input.sk-toggleable__control:checked~label.sk-toggleable__label {\n",
       "  color: var(--sklearn-color-text);\n",
       "  background-color: var(--sklearn-color-unfitted-level-2);\n",
       "}\n",
       "\n",
       "#sk-container-id-2 div.sk-label.fitted input.sk-toggleable__control:checked~label.sk-toggleable__label {\n",
       "  background-color: var(--sklearn-color-fitted-level-2);\n",
       "}\n",
       "\n",
       "/* Estimator-specific style */\n",
       "\n",
       "/* Colorize estimator box */\n",
       "#sk-container-id-2 div.sk-estimator input.sk-toggleable__control:checked~label.sk-toggleable__label {\n",
       "  /* unfitted */\n",
       "  background-color: var(--sklearn-color-unfitted-level-2);\n",
       "}\n",
       "\n",
       "#sk-container-id-2 div.sk-estimator.fitted input.sk-toggleable__control:checked~label.sk-toggleable__label {\n",
       "  /* fitted */\n",
       "  background-color: var(--sklearn-color-fitted-level-2);\n",
       "}\n",
       "\n",
       "#sk-container-id-2 div.sk-label label.sk-toggleable__label,\n",
       "#sk-container-id-2 div.sk-label label {\n",
       "  /* The background is the default theme color */\n",
       "  color: var(--sklearn-color-text-on-default-background);\n",
       "}\n",
       "\n",
       "/* On hover, darken the color of the background */\n",
       "#sk-container-id-2 div.sk-label:hover label.sk-toggleable__label {\n",
       "  color: var(--sklearn-color-text);\n",
       "  background-color: var(--sklearn-color-unfitted-level-2);\n",
       "}\n",
       "\n",
       "/* Label box, darken color on hover, fitted */\n",
       "#sk-container-id-2 div.sk-label.fitted:hover label.sk-toggleable__label.fitted {\n",
       "  color: var(--sklearn-color-text);\n",
       "  background-color: var(--sklearn-color-fitted-level-2);\n",
       "}\n",
       "\n",
       "/* Estimator label */\n",
       "\n",
       "#sk-container-id-2 div.sk-label label {\n",
       "  font-family: monospace;\n",
       "  font-weight: bold;\n",
       "  display: inline-block;\n",
       "  line-height: 1.2em;\n",
       "}\n",
       "\n",
       "#sk-container-id-2 div.sk-label-container {\n",
       "  text-align: center;\n",
       "}\n",
       "\n",
       "/* Estimator-specific */\n",
       "#sk-container-id-2 div.sk-estimator {\n",
       "  font-family: monospace;\n",
       "  border: 1px dotted var(--sklearn-color-border-box);\n",
       "  border-radius: 0.25em;\n",
       "  box-sizing: border-box;\n",
       "  margin-bottom: 0.5em;\n",
       "  /* unfitted */\n",
       "  background-color: var(--sklearn-color-unfitted-level-0);\n",
       "}\n",
       "\n",
       "#sk-container-id-2 div.sk-estimator.fitted {\n",
       "  /* fitted */\n",
       "  background-color: var(--sklearn-color-fitted-level-0);\n",
       "}\n",
       "\n",
       "/* on hover */\n",
       "#sk-container-id-2 div.sk-estimator:hover {\n",
       "  /* unfitted */\n",
       "  background-color: var(--sklearn-color-unfitted-level-2);\n",
       "}\n",
       "\n",
       "#sk-container-id-2 div.sk-estimator.fitted:hover {\n",
       "  /* fitted */\n",
       "  background-color: var(--sklearn-color-fitted-level-2);\n",
       "}\n",
       "\n",
       "/* Specification for estimator info (e.g. \"i\" and \"?\") */\n",
       "\n",
       "/* Common style for \"i\" and \"?\" */\n",
       "\n",
       ".sk-estimator-doc-link,\n",
       "a:link.sk-estimator-doc-link,\n",
       "a:visited.sk-estimator-doc-link {\n",
       "  float: right;\n",
       "  font-size: smaller;\n",
       "  line-height: 1em;\n",
       "  font-family: monospace;\n",
       "  background-color: var(--sklearn-color-background);\n",
       "  border-radius: 1em;\n",
       "  height: 1em;\n",
       "  width: 1em;\n",
       "  text-decoration: none !important;\n",
       "  margin-left: 0.5em;\n",
       "  text-align: center;\n",
       "  /* unfitted */\n",
       "  border: var(--sklearn-color-unfitted-level-1) 1pt solid;\n",
       "  color: var(--sklearn-color-unfitted-level-1);\n",
       "}\n",
       "\n",
       ".sk-estimator-doc-link.fitted,\n",
       "a:link.sk-estimator-doc-link.fitted,\n",
       "a:visited.sk-estimator-doc-link.fitted {\n",
       "  /* fitted */\n",
       "  border: var(--sklearn-color-fitted-level-1) 1pt solid;\n",
       "  color: var(--sklearn-color-fitted-level-1);\n",
       "}\n",
       "\n",
       "/* On hover */\n",
       "div.sk-estimator:hover .sk-estimator-doc-link:hover,\n",
       ".sk-estimator-doc-link:hover,\n",
       "div.sk-label-container:hover .sk-estimator-doc-link:hover,\n",
       ".sk-estimator-doc-link:hover {\n",
       "  /* unfitted */\n",
       "  background-color: var(--sklearn-color-unfitted-level-3);\n",
       "  color: var(--sklearn-color-background);\n",
       "  text-decoration: none;\n",
       "}\n",
       "\n",
       "div.sk-estimator.fitted:hover .sk-estimator-doc-link.fitted:hover,\n",
       ".sk-estimator-doc-link.fitted:hover,\n",
       "div.sk-label-container:hover .sk-estimator-doc-link.fitted:hover,\n",
       ".sk-estimator-doc-link.fitted:hover {\n",
       "  /* fitted */\n",
       "  background-color: var(--sklearn-color-fitted-level-3);\n",
       "  color: var(--sklearn-color-background);\n",
       "  text-decoration: none;\n",
       "}\n",
       "\n",
       "/* Span, style for the box shown on hovering the info icon */\n",
       ".sk-estimator-doc-link span {\n",
       "  display: none;\n",
       "  z-index: 9999;\n",
       "  position: relative;\n",
       "  font-weight: normal;\n",
       "  right: .2ex;\n",
       "  padding: .5ex;\n",
       "  margin: .5ex;\n",
       "  width: min-content;\n",
       "  min-width: 20ex;\n",
       "  max-width: 50ex;\n",
       "  color: var(--sklearn-color-text);\n",
       "  box-shadow: 2pt 2pt 4pt #999;\n",
       "  /* unfitted */\n",
       "  background: var(--sklearn-color-unfitted-level-0);\n",
       "  border: .5pt solid var(--sklearn-color-unfitted-level-3);\n",
       "}\n",
       "\n",
       ".sk-estimator-doc-link.fitted span {\n",
       "  /* fitted */\n",
       "  background: var(--sklearn-color-fitted-level-0);\n",
       "  border: var(--sklearn-color-fitted-level-3);\n",
       "}\n",
       "\n",
       ".sk-estimator-doc-link:hover span {\n",
       "  display: block;\n",
       "}\n",
       "\n",
       "/* \"?\"-specific style due to the `<a>` HTML tag */\n",
       "\n",
       "#sk-container-id-2 a.estimator_doc_link {\n",
       "  float: right;\n",
       "  font-size: 1rem;\n",
       "  line-height: 1em;\n",
       "  font-family: monospace;\n",
       "  background-color: var(--sklearn-color-background);\n",
       "  border-radius: 1rem;\n",
       "  height: 1rem;\n",
       "  width: 1rem;\n",
       "  text-decoration: none;\n",
       "  /* unfitted */\n",
       "  color: var(--sklearn-color-unfitted-level-1);\n",
       "  border: var(--sklearn-color-unfitted-level-1) 1pt solid;\n",
       "}\n",
       "\n",
       "#sk-container-id-2 a.estimator_doc_link.fitted {\n",
       "  /* fitted */\n",
       "  border: var(--sklearn-color-fitted-level-1) 1pt solid;\n",
       "  color: var(--sklearn-color-fitted-level-1);\n",
       "}\n",
       "\n",
       "/* On hover */\n",
       "#sk-container-id-2 a.estimator_doc_link:hover {\n",
       "  /* unfitted */\n",
       "  background-color: var(--sklearn-color-unfitted-level-3);\n",
       "  color: var(--sklearn-color-background);\n",
       "  text-decoration: none;\n",
       "}\n",
       "\n",
       "#sk-container-id-2 a.estimator_doc_link.fitted:hover {\n",
       "  /* fitted */\n",
       "  background-color: var(--sklearn-color-fitted-level-3);\n",
       "}\n",
       "</style><div id=\"sk-container-id-2\" class=\"sk-top-container\"><div class=\"sk-text-repr-fallback\"><pre>ColumnTransformer(force_int_remainder_cols=False, n_jobs=-1,\n",
       "                  remainder=&#x27;passthrough&#x27;,\n",
       "                  transformers=[(&#x27;ohe&#x27;,\n",
       "                                 OneHotEncoder(drop=&#x27;first&#x27;,\n",
       "                                               sparse_output=False),\n",
       "                                 [&#x27;region&#x27;, &#x27;day_of_week&#x27;])])</pre><b>In a Jupyter environment, please rerun this cell to show the HTML representation or trust the notebook. <br />On GitHub, the HTML representation is unable to render, please try loading this page with nbviewer.org.</b></div><div class=\"sk-container\" hidden><div class=\"sk-item sk-dashed-wrapped\"><div class=\"sk-label-container\"><div class=\"sk-label  sk-toggleable\"><input class=\"sk-toggleable__control sk-hidden--visually\" id=\"sk-estimator-id-6\" type=\"checkbox\" ><label for=\"sk-estimator-id-6\" class=\"sk-toggleable__label  sk-toggleable__label-arrow\"><div><div>ColumnTransformer</div></div><div><a class=\"sk-estimator-doc-link \" rel=\"noreferrer\" target=\"_blank\" href=\"https://scikit-learn.org/1.6/modules/generated/sklearn.compose.ColumnTransformer.html\">?<span>Documentation for ColumnTransformer</span></a><span class=\"sk-estimator-doc-link \">i<span>Not fitted</span></span></div></label><div class=\"sk-toggleable__content \"><pre>ColumnTransformer(force_int_remainder_cols=False, n_jobs=-1,\n",
       "                  remainder=&#x27;passthrough&#x27;,\n",
       "                  transformers=[(&#x27;ohe&#x27;,\n",
       "                                 OneHotEncoder(drop=&#x27;first&#x27;,\n",
       "                                               sparse_output=False),\n",
       "                                 [&#x27;region&#x27;, &#x27;day_of_week&#x27;])])</pre></div> </div></div><div class=\"sk-parallel\"><div class=\"sk-parallel-item\"><div class=\"sk-item\"><div class=\"sk-label-container\"><div class=\"sk-label  sk-toggleable\"><input class=\"sk-toggleable__control sk-hidden--visually\" id=\"sk-estimator-id-7\" type=\"checkbox\" ><label for=\"sk-estimator-id-7\" class=\"sk-toggleable__label  sk-toggleable__label-arrow\"><div><div>ohe</div></div></label><div class=\"sk-toggleable__content \"><pre>[&#x27;region&#x27;, &#x27;day_of_week&#x27;]</pre></div> </div></div><div class=\"sk-serial\"><div class=\"sk-item\"><div class=\"sk-estimator  sk-toggleable\"><input class=\"sk-toggleable__control sk-hidden--visually\" id=\"sk-estimator-id-8\" type=\"checkbox\" ><label for=\"sk-estimator-id-8\" class=\"sk-toggleable__label  sk-toggleable__label-arrow\"><div><div>OneHotEncoder</div></div><div><a class=\"sk-estimator-doc-link \" rel=\"noreferrer\" target=\"_blank\" href=\"https://scikit-learn.org/1.6/modules/generated/sklearn.preprocessing.OneHotEncoder.html\">?<span>Documentation for OneHotEncoder</span></a></div></label><div class=\"sk-toggleable__content \"><pre>OneHotEncoder(drop=&#x27;first&#x27;, sparse_output=False)</pre></div> </div></div></div></div></div><div class=\"sk-parallel-item\"><div class=\"sk-item\"><div class=\"sk-label-container\"><div class=\"sk-label  sk-toggleable\"><input class=\"sk-toggleable__control sk-hidden--visually\" id=\"sk-estimator-id-9\" type=\"checkbox\" ><label for=\"sk-estimator-id-9\" class=\"sk-toggleable__label  sk-toggleable__label-arrow\"><div><div>remainder</div></div></label><div class=\"sk-toggleable__content \"><pre></pre></div> </div></div><div class=\"sk-serial\"><div class=\"sk-item\"><div class=\"sk-estimator  sk-toggleable\"><input class=\"sk-toggleable__control sk-hidden--visually\" id=\"sk-estimator-id-10\" type=\"checkbox\" ><label for=\"sk-estimator-id-10\" class=\"sk-toggleable__label  sk-toggleable__label-arrow\"><div><div>passthrough</div></div></label><div class=\"sk-toggleable__content \"><pre>passthrough</pre></div> </div></div></div></div></div></div></div></div></div>"
      ],
      "text/plain": [
       "ColumnTransformer(force_int_remainder_cols=False, n_jobs=-1,\n",
       "                  remainder='passthrough',\n",
       "                  transformers=[('ohe',\n",
       "                                 OneHotEncoder(drop='first',\n",
       "                                               sparse_output=False),\n",
       "                                 ['region', 'day_of_week'])])"
      ]
     },
     "execution_count": 55,
     "metadata": {},
     "output_type": "execute_result"
    }
   ],
   "source": [
    "encoder"
   ]
  },
  {
   "cell_type": "code",
   "execution_count": 56,
   "id": "87be1416-4f29-4641-90f8-3657db7f3c81",
   "metadata": {},
   "outputs": [],
   "source": [
    "# encode the train and test data\n",
    "\n",
    "X_train_encoded = encoder.fit_transform(X_train)\n",
    "X_test_encoded = encoder.transform(X_test)"
   ]
  },
  {
   "cell_type": "code",
   "execution_count": 57,
   "id": "183b2699-317e-42ce-9cde-f7b21a5b8856",
   "metadata": {},
   "outputs": [],
   "source": [
    "import optuna\n",
    "import tqdm "
   ]
  },
  {
   "cell_type": "code",
   "execution_count": 58,
   "id": "ff04243d-ba11-4a03-ad24-ca9842b04f60",
   "metadata": {},
   "outputs": [
    {
     "data": {
      "text/plain": [
       "<Experiment: artifact_location='mlflow-artifacts:/03e27324340f498f8c4539333a5763c2', creation_time=1746980667373, experiment_id='0', last_update_time=1746980667373, lifecycle_stage='active', name='Model Selection', tags={}>"
      ]
     },
     "execution_count": 58,
     "metadata": {},
     "output_type": "execute_result"
    }
   ],
   "source": [
    "# set the experiment\n",
    "\n",
    "mlflow.set_experiment(\"Model Selection\")"
   ]
  },
  {
   "cell_type": "code",
   "execution_count": 59,
   "id": "fc24c21b-c522-45e8-9e58-8e7522523349",
   "metadata": {},
   "outputs": [],
   "source": [
    "def objective(trial):\n",
    "    # start the child run\n",
    "    with mlflow.start_run(nested=True) as child:\n",
    "        \n",
    "        # model name search space\n",
    "        list_of_models = [\"LR\", \"RF\", \"GBR\", \"XGBR\"]\n",
    "        model_name = trial.suggest_categorical(\"model_name\", list_of_models)\n",
    "    \n",
    "        if model_name == \"LR\":\n",
    "            model = LinearRegression()\n",
    "    \n",
    "        elif model_name == \"RF\":\n",
    "            n_estimators_rf = trial.suggest_int(\"n_estimators_rf\",10,100,step=10)\n",
    "            max_depth_rf = trial.suggest_int(\"max_depth_rf\",3,10)\n",
    "            model = RandomForestRegressor(n_estimators=n_estimators_rf, \n",
    "                                          max_depth=max_depth_rf, \n",
    "                                          random_state=42, n_jobs=-1)\n",
    "    \n",
    "        elif model_name == \"GBR\":\n",
    "            n_estimators_gb = trial.suggest_int(\"n_estimators_gb\",10,100,step=10)\n",
    "            learning_rate_gb = trial.suggest_float(\"learning_rate_gb\",1e-4,1e-1, log=True)\n",
    "            model = GradientBoostingRegressor(n_estimators=n_estimators_gb, \n",
    "                                              learning_rate=learning_rate_gb,\n",
    "                                             random_state=42)\n",
    "    \n",
    "        elif model_name == \"XGBR\":\n",
    "            n_estimators_xgb = trial.suggest_int(\"n_estimators_xgb\",10,100,step=10)\n",
    "            learning_rate_xgb = trial.suggest_float(\"learning_rate_xgb\",1e-4,1e-1, log=True)\n",
    "            max_depth_xgb = trial.suggest_int(\"max_depth_xgb\",3,10)\n",
    "            model = XGBRegressor(n_estimators=n_estimators_xgb,\n",
    "                                learning_rate=learning_rate_xgb,\n",
    "                                max_depth=max_depth_xgb)\n",
    "    \n",
    "        # log the model name\n",
    "        mlflow.log_param(\"model_name\",model_name)\n",
    "        \n",
    "        # log the model parameters\n",
    "        mlflow.log_params(model.get_params())\n",
    "        \n",
    "        # fit on the data\n",
    "        model.fit(X_train_encoded,y_train)\n",
    "    \n",
    "        # get the predictions\n",
    "        y_pred = model.predict(X_test_encoded)\n",
    "    \n",
    "        # calculate the loss\n",
    "        loss = mean_absolute_percentage_error(y_test, y_pred)\n",
    "    \n",
    "        # log the metric\n",
    "        mlflow.log_metric(\"MAPE\",loss)\n",
    "        return loss"
   ]
  },
  {
   "cell_type": "code",
   "execution_count": 60,
   "id": "9b1c9fda-5466-4694-9c0b-5536a993f861",
   "metadata": {},
   "outputs": [
    {
     "name": "stderr",
     "output_type": "stream",
     "text": [
      "[I 2025-05-11 22:32:21,448] A new study created in memory with name: model_selection\n"
     ]
    },
    {
     "name": "stdout",
     "output_type": "stream",
     "text": [
      "🏃 View run capable-fawn-488 at: https://dagshub.com/akashagalaveaaa1/Taxi-Demand-Prediction-System.mlflow/#/experiments/0/runs/45cc198f9db04e6687eb268d8465c682\n",
      "🧪 View experiment at: https://dagshub.com/akashagalaveaaa1/Taxi-Demand-Prediction-System.mlflow/#/experiments/0\n",
      "🏃 View run melodic-grouse-301 at: https://dagshub.com/akashagalaveaaa1/Taxi-Demand-Prediction-System.mlflow/#/experiments/0/runs/f73f4c51ad3948e19086033697fac67e\n",
      "🧪 View experiment at: https://dagshub.com/akashagalaveaaa1/Taxi-Demand-Prediction-System.mlflow/#/experiments/0\n",
      "🏃 View run exultant-shrew-756 at: https://dagshub.com/akashagalaveaaa1/Taxi-Demand-Prediction-System.mlflow/#/experiments/0/runs/b2a38e1392be4ca7b2add8a53e73ee22\n",
      "🧪 View experiment at: https://dagshub.com/akashagalaveaaa1/Taxi-Demand-Prediction-System.mlflow/#/experiments/0\n",
      "🏃 View run rambunctious-jay-992 at: https://dagshub.com/akashagalaveaaa1/Taxi-Demand-Prediction-System.mlflow/#/experiments/0/runs/615028fed3fd4ddcbeb85f17756fe927\n",
      "🧪 View experiment at: https://dagshub.com/akashagalaveaaa1/Taxi-Demand-Prediction-System.mlflow/#/experiments/0\n",
      "🏃 View run powerful-gull-495 at: https://dagshub.com/akashagalaveaaa1/Taxi-Demand-Prediction-System.mlflow/#/experiments/0/runs/b9a98e0f575243aeac11493b3cf58d28\n",
      "🧪 View experiment at: https://dagshub.com/akashagalaveaaa1/Taxi-Demand-Prediction-System.mlflow/#/experiments/0\n",
      "🏃 View run legendary-carp-833 at: https://dagshub.com/akashagalaveaaa1/Taxi-Demand-Prediction-System.mlflow/#/experiments/0/runs/b745344a60ab4f92a6a2ea84e360dd3f\n",
      "🧪 View experiment at: https://dagshub.com/akashagalaveaaa1/Taxi-Demand-Prediction-System.mlflow/#/experiments/0\n",
      "🏃 View run masked-robin-30 at: https://dagshub.com/akashagalaveaaa1/Taxi-Demand-Prediction-System.mlflow/#/experiments/0/runs/4591a4453703441ea40234647c93fa43\n",
      "🧪 View experiment at: https://dagshub.com/akashagalaveaaa1/Taxi-Demand-Prediction-System.mlflow/#/experiments/0\n"
     ]
    },
    {
     "name": "stderr",
     "output_type": "stream",
     "text": [
      "[I 2025-05-11 22:33:06,428] Trial 4 finished with value: 6.438340187072754 and parameters: {'model_name': 'XGBR', 'n_estimators_xgb': 90, 'learning_rate_xgb': 0.00024120592078432892, 'max_depth_xgb': 6}. Best is trial 4 with value: 6.438340187072754.\n"
     ]
    },
    {
     "name": "stdout",
     "output_type": "stream",
     "text": [
      "🏃 View run big-slug-906 at: https://dagshub.com/akashagalaveaaa1/Taxi-Demand-Prediction-System.mlflow/#/experiments/0/runs/0accc17a030f4b6581e81892ea5bb363\n",
      "🧪 View experiment at: https://dagshub.com/akashagalaveaaa1/Taxi-Demand-Prediction-System.mlflow/#/experiments/0\n",
      "🏃 View run upset-grub-870 at: https://dagshub.com/akashagalaveaaa1/Taxi-Demand-Prediction-System.mlflow/#/experiments/0/runs/39b0872c510140ad94965d00c9ff480b\n",
      "🧪 View experiment at: https://dagshub.com/akashagalaveaaa1/Taxi-Demand-Prediction-System.mlflow/#/experiments/0\n"
     ]
    },
    {
     "name": "stderr",
     "output_type": "stream",
     "text": [
      "[I 2025-05-11 22:33:09,441] Trial 8 finished with value: 0.07934790285463077 and parameters: {'model_name': 'LR'}. Best is trial 8 with value: 0.07934790285463077.\n",
      "[I 2025-05-11 22:33:10,448] Trial 1 finished with value: 5.961167812347412 and parameters: {'model_name': 'XGBR', 'n_estimators_xgb': 80, 'learning_rate_xgb': 0.0012458595457911774, 'max_depth_xgb': 9}. Best is trial 8 with value: 0.07934790285463077.\n",
      "[I 2025-05-11 22:33:11,425] Trial 5 finished with value: 0.07934790285463077 and parameters: {'model_name': 'LR'}. Best is trial 8 with value: 0.07934790285463077.\n"
     ]
    },
    {
     "name": "stdout",
     "output_type": "stream",
     "text": [
      "🏃 View run funny-trout-311 at: https://dagshub.com/akashagalaveaaa1/Taxi-Demand-Prediction-System.mlflow/#/experiments/0/runs/7f873f8af27d4048b9dae1ebceffb38f\n",
      "🧪 View experiment at: https://dagshub.com/akashagalaveaaa1/Taxi-Demand-Prediction-System.mlflow/#/experiments/0\n"
     ]
    },
    {
     "name": "stderr",
     "output_type": "stream",
     "text": [
      "[I 2025-05-11 22:33:13,444] Trial 2 finished with value: 0.07934790285463077 and parameters: {'model_name': 'LR'}. Best is trial 8 with value: 0.07934790285463077.\n",
      "[I 2025-05-11 22:33:14,449] Trial 10 finished with value: 0.3824175000190735 and parameters: {'model_name': 'XGBR', 'n_estimators_xgb': 80, 'learning_rate_xgb': 0.0502853441898907, 'max_depth_xgb': 3}. Best is trial 8 with value: 0.07934790285463077.\n",
      "[I 2025-05-11 22:33:17,422] Trial 7 finished with value: 6.57019567489624 and parameters: {'model_name': 'XGBR', 'n_estimators_xgb': 10, 'learning_rate_xgb': 0.00011264289279815445, 'max_depth_xgb': 6}. Best is trial 8 with value: 0.07934790285463077.\n",
      "[I 2025-05-11 22:33:18,445] Trial 11 finished with value: 6.4469828605651855 and parameters: {'model_name': 'XGBR', 'n_estimators_xgb': 10, 'learning_rate_xgb': 0.0020328058188813494, 'max_depth_xgb': 6}. Best is trial 8 with value: 0.07934790285463077.\n",
      "[I 2025-05-11 22:33:22,444] Trial 6 finished with value: 4.229926586151123 and parameters: {'model_name': 'XGBR', 'n_estimators_xgb': 50, 'learning_rate_xgb': 0.008957541524669179, 'max_depth_xgb': 6}. Best is trial 8 with value: 0.07934790285463077.\n"
     ]
    },
    {
     "name": "stdout",
     "output_type": "stream",
     "text": [
      "🏃 View run learned-midge-557 at: https://dagshub.com/akashagalaveaaa1/Taxi-Demand-Prediction-System.mlflow/#/experiments/0/runs/02e05e15b45b4219a776b00036fe4e3e\n",
      "🧪 View experiment at: https://dagshub.com/akashagalaveaaa1/Taxi-Demand-Prediction-System.mlflow/#/experiments/0\n"
     ]
    },
    {
     "name": "stderr",
     "output_type": "stream",
     "text": [
      "[I 2025-05-11 22:33:35,443] Trial 0 finished with value: 0.17689965791966933 and parameters: {'model_name': 'RF', 'n_estimators_rf': 60, 'max_depth_rf': 7}. Best is trial 8 with value: 0.07934790285463077.\n",
      "[I 2025-05-11 22:33:46,428] Trial 9 finished with value: 0.5436767136482558 and parameters: {'model_name': 'RF', 'n_estimators_rf': 70, 'max_depth_rf': 3}. Best is trial 8 with value: 0.07934790285463077.\n"
     ]
    },
    {
     "name": "stdout",
     "output_type": "stream",
     "text": [
      "🏃 View run dazzling-frog-327 at: https://dagshub.com/akashagalaveaaa1/Taxi-Demand-Prediction-System.mlflow/#/experiments/0/runs/6ed0e5d2ef7d4a439664df4ec5d65220\n",
      "🧪 View experiment at: https://dagshub.com/akashagalaveaaa1/Taxi-Demand-Prediction-System.mlflow/#/experiments/0\n",
      "🏃 View run puzzled-squirrel-874 at: https://dagshub.com/akashagalaveaaa1/Taxi-Demand-Prediction-System.mlflow/#/experiments/0/runs/f0e907b10990463f8c81c3dbb0379075\n",
      "🧪 View experiment at: https://dagshub.com/akashagalaveaaa1/Taxi-Demand-Prediction-System.mlflow/#/experiments/0\n",
      "🏃 View run rogue-koi-536 at: https://dagshub.com/akashagalaveaaa1/Taxi-Demand-Prediction-System.mlflow/#/experiments/0/runs/75173b844aba4ff8a467044bb8c0113a\n",
      "🧪 View experiment at: https://dagshub.com/akashagalaveaaa1/Taxi-Demand-Prediction-System.mlflow/#/experiments/0\n",
      "🏃 View run flawless-croc-489 at: https://dagshub.com/akashagalaveaaa1/Taxi-Demand-Prediction-System.mlflow/#/experiments/0/runs/4a812e8c8cc14a2aba1fd69b0a15c0ac\n",
      "🧪 View experiment at: https://dagshub.com/akashagalaveaaa1/Taxi-Demand-Prediction-System.mlflow/#/experiments/0\n",
      "🏃 View run painted-ray-624 at: https://dagshub.com/akashagalaveaaa1/Taxi-Demand-Prediction-System.mlflow/#/experiments/0/runs/9e0ecb062b2d42d289a0639314cd8f7b\n",
      "🧪 View experiment at: https://dagshub.com/akashagalaveaaa1/Taxi-Demand-Prediction-System.mlflow/#/experiments/0\n",
      "🏃 View run indecisive-fly-794 at: https://dagshub.com/akashagalaveaaa1/Taxi-Demand-Prediction-System.mlflow/#/experiments/0/runs/24f1dc34947f4ee2bdcde3ecc8818aad\n",
      "🧪 View experiment at: https://dagshub.com/akashagalaveaaa1/Taxi-Demand-Prediction-System.mlflow/#/experiments/0\n",
      "🏃 View run unequaled-wren-478 at: https://dagshub.com/akashagalaveaaa1/Taxi-Demand-Prediction-System.mlflow/#/experiments/0/runs/9b06af9a693344b582a25eb7e530119c\n",
      "🧪 View experiment at: https://dagshub.com/akashagalaveaaa1/Taxi-Demand-Prediction-System.mlflow/#/experiments/0\n"
     ]
    },
    {
     "name": "stderr",
     "output_type": "stream",
     "text": [
      "[I 2025-05-11 22:34:09,461] Trial 13 finished with value: 5.91038703918457 and parameters: {'model_name': 'XGBR', 'n_estimators_xgb': 30, 'learning_rate_xgb': 0.0037886116700582948, 'max_depth_xgb': 3}. Best is trial 8 with value: 0.07934790285463077.\n",
      "[I 2025-05-11 22:34:10,478] Trial 14 finished with value: 0.5924916863441467 and parameters: {'model_name': 'XGBR', 'n_estimators_xgb': 60, 'learning_rate_xgb': 0.04764808583460656, 'max_depth_xgb': 3}. Best is trial 8 with value: 0.07934790285463077.\n",
      "[I 2025-05-11 22:34:11,477] Trial 15 finished with value: 0.07934790285463077 and parameters: {'model_name': 'LR'}. Best is trial 8 with value: 0.07934790285463077.\n"
     ]
    },
    {
     "name": "stdout",
     "output_type": "stream",
     "text": [
      "🏃 View run flawless-bass-96 at: https://dagshub.com/akashagalaveaaa1/Taxi-Demand-Prediction-System.mlflow/#/experiments/0/runs/cdc9e058ac474c73b54c1319faada2e2\n",
      "🧪 View experiment at: https://dagshub.com/akashagalaveaaa1/Taxi-Demand-Prediction-System.mlflow/#/experiments/0\n"
     ]
    },
    {
     "name": "stderr",
     "output_type": "stream",
     "text": [
      "[I 2025-05-11 22:34:13,444] Trial 16 finished with value: 6.058462142944336 and parameters: {'model_name': 'XGBR', 'n_estimators_xgb': 70, 'learning_rate_xgb': 0.001248258497056549, 'max_depth_xgb': 3}. Best is trial 8 with value: 0.07934790285463077.\n",
      "[I 2025-05-11 22:34:14,484] Trial 17 finished with value: 6.062399864196777 and parameters: {'model_name': 'XGBR', 'n_estimators_xgb': 70, 'learning_rate_xgb': 0.001181491597946713, 'max_depth_xgb': 7}. Best is trial 8 with value: 0.07934790285463077.\n",
      "[I 2025-05-11 22:34:16,427] Trial 12 finished with value: 0.07934790285463077 and parameters: {'model_name': 'LR'}. Best is trial 8 with value: 0.07934790285463077.\n",
      "[I 2025-05-11 22:34:18,436] Trial 19 finished with value: 0.07934790285463077 and parameters: {'model_name': 'LR'}. Best is trial 8 with value: 0.07934790285463077.\n",
      "[I 2025-05-11 22:34:22,416] Trial 18 finished with value: 2.719686985015869 and parameters: {'model_name': 'XGBR', 'n_estimators_xgb': 70, 'learning_rate_xgb': 0.013755634861246025, 'max_depth_xgb': 3}. Best is trial 8 with value: 0.07934790285463077.\n"
     ]
    },
    {
     "name": "stdout",
     "output_type": "stream",
     "text": [
      "🏃 View run useful-kit-99 at: https://dagshub.com/akashagalaveaaa1/Taxi-Demand-Prediction-System.mlflow/#/experiments/0/runs/d7fdb1cc1d504a469083ec6d6d647759\n",
      "🧪 View experiment at: https://dagshub.com/akashagalaveaaa1/Taxi-Demand-Prediction-System.mlflow/#/experiments/0\n",
      "🏃 View run classy-vole-920 at: https://dagshub.com/akashagalaveaaa1/Taxi-Demand-Prediction-System.mlflow/#/experiments/0/runs/9593de433ada4e168b8979399d72a8c6\n",
      "🧪 View experiment at: https://dagshub.com/akashagalaveaaa1/Taxi-Demand-Prediction-System.mlflow/#/experiments/0\n",
      "🏃 View run gregarious-finch-280 at: https://dagshub.com/akashagalaveaaa1/Taxi-Demand-Prediction-System.mlflow/#/experiments/0/runs/631a625270a0482ab1df0c34d6007bd2\n",
      "🧪 View experiment at: https://dagshub.com/akashagalaveaaa1/Taxi-Demand-Prediction-System.mlflow/#/experiments/0\n"
     ]
    },
    {
     "name": "stderr",
     "output_type": "stream",
     "text": [
      "[I 2025-05-11 22:34:37,461] Trial 20 finished with value: 4.478214263916016 and parameters: {'model_name': 'XGBR', 'n_estimators_xgb': 30, 'learning_rate_xgb': 0.013033433070160305, 'max_depth_xgb': 5}. Best is trial 8 with value: 0.07934790285463077.\n",
      "[I 2025-05-11 22:34:43,481] Trial 21 finished with value: 6.48221418074998 and parameters: {'model_name': 'GBR', 'n_estimators_gb': 40, 'learning_rate_gb': 0.00038688857976728534}. Best is trial 8 with value: 0.07934790285463077.\n",
      "[I 2025-05-11 22:34:45,441] Trial 22 finished with value: 0.07934790285463077 and parameters: {'model_name': 'LR'}. Best is trial 8 with value: 0.07934790285463077.\n"
     ]
    },
    {
     "name": "stdout",
     "output_type": "stream",
     "text": [
      "🏃 View run loud-seal-832 at: https://dagshub.com/akashagalaveaaa1/Taxi-Demand-Prediction-System.mlflow/#/experiments/0/runs/b8e682011d97421f8c1ff90b7e0ccfa1\n",
      "🧪 View experiment at: https://dagshub.com/akashagalaveaaa1/Taxi-Demand-Prediction-System.mlflow/#/experiments/0\n",
      "🏃 View run shivering-shark-813 at: https://dagshub.com/akashagalaveaaa1/Taxi-Demand-Prediction-System.mlflow/#/experiments/0/runs/bb036287942f4237932492efd2e2f0c8\n",
      "🧪 View experiment at: https://dagshub.com/akashagalaveaaa1/Taxi-Demand-Prediction-System.mlflow/#/experiments/0\n",
      "🏃 View run grandiose-colt-434 at: https://dagshub.com/akashagalaveaaa1/Taxi-Demand-Prediction-System.mlflow/#/experiments/0/runs/a3e1748a44fe4b52b03c0a9244e604db\n",
      "🧪 View experiment at: https://dagshub.com/akashagalaveaaa1/Taxi-Demand-Prediction-System.mlflow/#/experiments/0\n"
     ]
    },
    {
     "name": "stderr",
     "output_type": "stream",
     "text": [
      "[I 2025-05-11 22:35:06,442] Trial 24 finished with value: 6.522342222392143 and parameters: {'model_name': 'GBR', 'n_estimators_gb': 10, 'learning_rate_gb': 0.0008930980987753327}. Best is trial 8 with value: 0.07934790285463077.\n",
      "[I 2025-05-11 22:35:08,428] Trial 25 finished with value: 6.5275204501208925 and parameters: {'model_name': 'GBR', 'n_estimators_gb': 10, 'learning_rate_gb': 0.0008089296926071863}. Best is trial 8 with value: 0.07934790285463077.\n"
     ]
    },
    {
     "name": "stdout",
     "output_type": "stream",
     "text": [
      "🏃 View run unruly-mare-784 at: https://dagshub.com/akashagalaveaaa1/Taxi-Demand-Prediction-System.mlflow/#/experiments/0/runs/80bd708ee5044731a9dfa09b3d5755eb\n",
      "🧪 View experiment at: https://dagshub.com/akashagalaveaaa1/Taxi-Demand-Prediction-System.mlflow/#/experiments/0\n",
      "🏃 View run masked-vole-60 at: https://dagshub.com/akashagalaveaaa1/Taxi-Demand-Prediction-System.mlflow/#/experiments/0/runs/6445c377afd845c581559ee9af82b0b8\n",
      "🧪 View experiment at: https://dagshub.com/akashagalaveaaa1/Taxi-Demand-Prediction-System.mlflow/#/experiments/0\n"
     ]
    },
    {
     "name": "stderr",
     "output_type": "stream",
     "text": [
      "[I 2025-05-11 22:35:13,445] Trial 23 finished with value: 5.109613689531225 and parameters: {'model_name': 'GBR', 'n_estimators_gb': 40, 'learning_rate_gb': 0.006731624891181981}. Best is trial 8 with value: 0.07934790285463077.\n",
      "[I 2025-05-11 22:35:18,428] Trial 3 finished with value: 0.23773064042053363 and parameters: {'model_name': 'RF', 'n_estimators_rf': 60, 'max_depth_rf': 5}. Best is trial 8 with value: 0.07934790285463077.\n",
      "[I 2025-05-11 22:35:20,426] Trial 27 finished with value: 6.457444962911486 and parameters: {'model_name': 'GBR', 'n_estimators_gb': 30, 'learning_rate_gb': 0.000650935072943228}. Best is trial 8 with value: 0.07934790285463077.\n"
     ]
    },
    {
     "name": "stdout",
     "output_type": "stream",
     "text": [
      "🏃 View run rogue-worm-731 at: https://dagshub.com/akashagalaveaaa1/Taxi-Demand-Prediction-System.mlflow/#/experiments/0/runs/28f8f21159b14484a07940403d6bd104\n",
      "🧪 View experiment at: https://dagshub.com/akashagalaveaaa1/Taxi-Demand-Prediction-System.mlflow/#/experiments/0\n",
      "🏃 View run upbeat-stag-470 at: https://dagshub.com/akashagalaveaaa1/Taxi-Demand-Prediction-System.mlflow/#/experiments/0/runs/dcf585e6aab943d0b22462b3b9467456\n",
      "🧪 View experiment at: https://dagshub.com/akashagalaveaaa1/Taxi-Demand-Prediction-System.mlflow/#/experiments/0\n",
      "🏃 View run adorable-ray-457 at: https://dagshub.com/akashagalaveaaa1/Taxi-Demand-Prediction-System.mlflow/#/experiments/0/runs/141f9896e40f4254bd63406b0c577b66\n",
      "🧪 View experiment at: https://dagshub.com/akashagalaveaaa1/Taxi-Demand-Prediction-System.mlflow/#/experiments/0\n",
      "🏃 View run calm-fowl-747 at: https://dagshub.com/akashagalaveaaa1/Taxi-Demand-Prediction-System.mlflow/#/experiments/0/runs/3283438ff3354ca9a940c74a21627dac\n",
      "🧪 View experiment at: https://dagshub.com/akashagalaveaaa1/Taxi-Demand-Prediction-System.mlflow/#/experiments/0\n"
     ]
    },
    {
     "name": "stderr",
     "output_type": "stream",
     "text": [
      "[I 2025-05-11 22:35:33,179] Trial 31 finished with value: 0.07934790285463077 and parameters: {'model_name': 'LR'}. Best is trial 8 with value: 0.07934790285463077.\n"
     ]
    },
    {
     "name": "stdout",
     "output_type": "stream",
     "text": [
      "🏃 View run treasured-skunk-931 at: https://dagshub.com/akashagalaveaaa1/Taxi-Demand-Prediction-System.mlflow/#/experiments/0/runs/ae95bafbd032461788e021b6d48ecb06\n",
      "🧪 View experiment at: https://dagshub.com/akashagalaveaaa1/Taxi-Demand-Prediction-System.mlflow/#/experiments/0\n"
     ]
    },
    {
     "name": "stderr",
     "output_type": "stream",
     "text": [
      "[I 2025-05-11 22:35:35,411] Trial 32 finished with value: 0.07934790285463077 and parameters: {'model_name': 'LR'}. Best is trial 8 with value: 0.07934790285463077.\n",
      "[I 2025-05-11 22:35:37,429] Trial 33 finished with value: 0.07934790285463077 and parameters: {'model_name': 'LR'}. Best is trial 8 with value: 0.07934790285463077.\n",
      "[I 2025-05-11 22:35:39,419] Trial 28 finished with value: 5.83290553345908 and parameters: {'model_name': 'GBR', 'n_estimators_gb': 60, 'learning_rate_gb': 0.0021294187772420104}. Best is trial 8 with value: 0.07934790285463077.\n",
      "[I 2025-05-11 22:35:41,456] Trial 26 finished with value: 4.783267953909393 and parameters: {'model_name': 'GBR', 'n_estimators_gb': 60, 'learning_rate_gb': 0.0056774706698556}. Best is trial 8 with value: 0.07934790285463077.\n"
     ]
    },
    {
     "name": "stdout",
     "output_type": "stream",
     "text": [
      "🏃 View run dashing-kite-741 at: https://dagshub.com/akashagalaveaaa1/Taxi-Demand-Prediction-System.mlflow/#/experiments/0/runs/12ca8e13ca914ec59781869ef41837a1\n",
      "🧪 View experiment at: https://dagshub.com/akashagalaveaaa1/Taxi-Demand-Prediction-System.mlflow/#/experiments/0\n",
      "🏃 View run efficient-panda-148 at: https://dagshub.com/akashagalaveaaa1/Taxi-Demand-Prediction-System.mlflow/#/experiments/0/runs/cf4148a651514943972e1cb67d6d1627\n",
      "🧪 View experiment at: https://dagshub.com/akashagalaveaaa1/Taxi-Demand-Prediction-System.mlflow/#/experiments/0\n"
     ]
    },
    {
     "name": "stderr",
     "output_type": "stream",
     "text": [
      "[I 2025-05-11 22:36:03,445] Trial 29 finished with value: 0.6690585888430117 and parameters: {'model_name': 'GBR', 'n_estimators_gb': 100, 'learning_rate_gb': 0.0267435263611706}. Best is trial 8 with value: 0.07934790285463077.\n"
     ]
    },
    {
     "name": "stdout",
     "output_type": "stream",
     "text": [
      "🏃 View run valuable-bat-96 at: https://dagshub.com/akashagalaveaaa1/Taxi-Demand-Prediction-System.mlflow/#/experiments/0/runs/4df02d9f2b4f4ee2a26da8358eec989a\n",
      "🧪 View experiment at: https://dagshub.com/akashagalaveaaa1/Taxi-Demand-Prediction-System.mlflow/#/experiments/0\n"
     ]
    },
    {
     "name": "stderr",
     "output_type": "stream",
     "text": [
      "[I 2025-05-11 22:36:06,448] Trial 35 finished with value: 0.07934790285463077 and parameters: {'model_name': 'LR'}. Best is trial 8 with value: 0.07934790285463077.\n"
     ]
    },
    {
     "name": "stdout",
     "output_type": "stream",
     "text": [
      "🏃 View run brawny-snipe-258 at: https://dagshub.com/akashagalaveaaa1/Taxi-Demand-Prediction-System.mlflow/#/experiments/0/runs/193fa4c69309407899463929ec1ba1b2\n",
      "🧪 View experiment at: https://dagshub.com/akashagalaveaaa1/Taxi-Demand-Prediction-System.mlflow/#/experiments/0\n",
      "🏃 View run thundering-ox-347 at: https://dagshub.com/akashagalaveaaa1/Taxi-Demand-Prediction-System.mlflow/#/experiments/0/runs/f91a44758ff14faa9c6b2d800771b658\n",
      "🧪 View experiment at: https://dagshub.com/akashagalaveaaa1/Taxi-Demand-Prediction-System.mlflow/#/experiments/0\n",
      "🏃 View run legendary-flea-45 at: https://dagshub.com/akashagalaveaaa1/Taxi-Demand-Prediction-System.mlflow/#/experiments/0/runs/37c491016003464d8ed649fede893401\n",
      "🧪 View experiment at: https://dagshub.com/akashagalaveaaa1/Taxi-Demand-Prediction-System.mlflow/#/experiments/0\n"
     ]
    },
    {
     "name": "stderr",
     "output_type": "stream",
     "text": [
      "[I 2025-05-11 22:36:18,437] Trial 37 finished with value: 0.07934790285463077 and parameters: {'model_name': 'LR'}. Best is trial 8 with value: 0.07934790285463077.\n",
      "[I 2025-05-11 22:36:20,451] Trial 38 finished with value: 0.07934790285463077 and parameters: {'model_name': 'LR'}. Best is trial 8 with value: 0.07934790285463077.\n"
     ]
    },
    {
     "name": "stdout",
     "output_type": "stream",
     "text": [
      "🏃 View run sneaky-gnat-396 at: https://dagshub.com/akashagalaveaaa1/Taxi-Demand-Prediction-System.mlflow/#/experiments/0/runs/d2ee5f3658e24e2da42b0a54c5684958\n",
      "🧪 View experiment at: https://dagshub.com/akashagalaveaaa1/Taxi-Demand-Prediction-System.mlflow/#/experiments/0\n"
     ]
    },
    {
     "name": "stderr",
     "output_type": "stream",
     "text": [
      "[I 2025-05-11 22:36:26,420] Trial 30 finished with value: 2.9628216198297115 and parameters: {'model_name': 'GBR', 'n_estimators_gb': 60, 'learning_rate_gb': 0.014436618355648273}. Best is trial 8 with value: 0.07934790285463077.\n"
     ]
    },
    {
     "name": "stdout",
     "output_type": "stream",
     "text": [
      "🏃 View run bright-ape-291 at: https://dagshub.com/akashagalaveaaa1/Taxi-Demand-Prediction-System.mlflow/#/experiments/0/runs/488a8374c26d4b12b3804e03daed2fda\n",
      "🧪 View experiment at: https://dagshub.com/akashagalaveaaa1/Taxi-Demand-Prediction-System.mlflow/#/experiments/0\n"
     ]
    },
    {
     "name": "stderr",
     "output_type": "stream",
     "text": [
      "[I 2025-05-11 22:36:28,447] Trial 34 finished with value: 0.07934790285463077 and parameters: {'model_name': 'LR'}. Best is trial 8 with value: 0.07934790285463077.\n"
     ]
    },
    {
     "name": "stdout",
     "output_type": "stream",
     "text": [
      "🏃 View run resilient-ape-538 at: https://dagshub.com/akashagalaveaaa1/Taxi-Demand-Prediction-System.mlflow/#/experiments/0/runs/26912c9b2d5d422b9b65a9cfe0671259\n",
      "🧪 View experiment at: https://dagshub.com/akashagalaveaaa1/Taxi-Demand-Prediction-System.mlflow/#/experiments/0\n",
      "🏃 View run fun-perch-696 at: https://dagshub.com/akashagalaveaaa1/Taxi-Demand-Prediction-System.mlflow/#/experiments/0/runs/8514e3733ac2429098ea9b966bea64b9\n",
      "🧪 View experiment at: https://dagshub.com/akashagalaveaaa1/Taxi-Demand-Prediction-System.mlflow/#/experiments/0\n",
      "🏃 View run gaudy-yak-121 at: https://dagshub.com/akashagalaveaaa1/Taxi-Demand-Prediction-System.mlflow/#/experiments/0/runs/27e39d02b9bb44198b89e0e3659c519e\n",
      "🧪 View experiment at: https://dagshub.com/akashagalaveaaa1/Taxi-Demand-Prediction-System.mlflow/#/experiments/0\n"
     ]
    },
    {
     "name": "stderr",
     "output_type": "stream",
     "text": [
      "[I 2025-05-11 22:36:35,445] Trial 40 finished with value: 0.07934790285463077 and parameters: {'model_name': 'LR'}. Best is trial 8 with value: 0.07934790285463077.\n",
      "[I 2025-05-11 22:36:37,414] Trial 41 finished with value: 0.07934790285463077 and parameters: {'model_name': 'LR'}. Best is trial 8 with value: 0.07934790285463077.\n",
      "[W 2025-05-11 22:36:38,422] Trial 49 failed with parameters: {} because of the following error: RestException('403: You have reached the limit of 100 experiments for a private repository in the free plan.\\nPlease upgrade to the Starter plan to increase the limit at https://dagshub.com/pricing?repo_id=75854').\n",
      "Traceback (most recent call last):\n",
      "  File \"c:\\Final Projects\\Taxi Demand Prediction System\\TAXI\\Lib\\site-packages\\optuna\\study\\_optimize.py\", line 197, in _run_trial\n",
      "    value_or_values = func(trial)\n",
      "                      ^^^^^^^^^^^\n",
      "  File \"C:\\Users\\akash\\AppData\\Local\\Temp\\ipykernel_10780\\2228030350.py\", line 3, in objective\n",
      "    with mlflow.start_run(nested=True) as child:\n",
      "         ^^^^^^^^^^^^^^^^^^^^^^^^^^^^^\n",
      "  File \"c:\\Final Projects\\Taxi Demand Prediction System\\TAXI\\Lib\\site-packages\\mlflow\\tracking\\fluent.py\", line 446, in start_run\n",
      "    active_run_obj = client.create_run(\n",
      "                     ^^^^^^^^^^^^^^^^^^\n",
      "  File \"c:\\Final Projects\\Taxi Demand Prediction System\\TAXI\\Lib\\site-packages\\mlflow\\tracking\\client.py\", line 418, in create_run\n",
      "    return self._tracking_client.create_run(experiment_id, start_time, tags, run_name)\n",
      "           ^^^^^^^^^^^^^^^^^^^^^^^^^^^^^^^^^^^^^^^^^^^^^^^^^^^^^^^^^^^^^^^^^^^^^^^^^^^\n",
      "  File \"c:\\Final Projects\\Taxi Demand Prediction System\\TAXI\\Lib\\site-packages\\mlflow\\tracking\\_tracking_service\\client.py\", line 170, in create_run\n",
      "    return self.store.create_run(\n",
      "           ^^^^^^^^^^^^^^^^^^^^^^\n",
      "  File \"c:\\Final Projects\\Taxi Demand Prediction System\\TAXI\\Lib\\site-packages\\mlflow\\store\\tracking\\rest_store.py\", line 220, in create_run\n",
      "    response_proto = self._call_endpoint(CreateRun, req_body)\n",
      "                     ^^^^^^^^^^^^^^^^^^^^^^^^^^^^^^^^^^^^^^^^\n",
      "  File \"c:\\Final Projects\\Taxi Demand Prediction System\\TAXI\\Lib\\site-packages\\mlflow\\store\\tracking\\rest_store.py\", line 90, in _call_endpoint\n",
      "    return call_endpoint(self.get_host_creds(), endpoint, method, json_body, response_proto)\n",
      "           ^^^^^^^^^^^^^^^^^^^^^^^^^^^^^^^^^^^^^^^^^^^^^^^^^^^^^^^^^^^^^^^^^^^^^^^^^^^^^^^^^\n",
      "  File \"c:\\Final Projects\\Taxi Demand Prediction System\\TAXI\\Lib\\site-packages\\mlflow\\utils\\rest_utils.py\", line 402, in call_endpoint\n",
      "    response = verify_rest_response(response, endpoint)\n",
      "               ^^^^^^^^^^^^^^^^^^^^^^^^^^^^^^^^^^^^^^^^\n",
      "  File \"c:\\Final Projects\\Taxi Demand Prediction System\\TAXI\\Lib\\site-packages\\mlflow\\utils\\rest_utils.py\", line 259, in verify_rest_response\n",
      "    raise RestException(json.loads(response.text))\n",
      "mlflow.exceptions.RestException: 403: You have reached the limit of 100 experiments for a private repository in the free plan.\n",
      "Please upgrade to the Starter plan to increase the limit at https://dagshub.com/pricing?repo_id=75854\n",
      "[W 2025-05-11 22:36:38,567] Trial 49 failed with value None.\n",
      "[I 2025-05-11 22:36:39,461] Trial 42 finished with value: 0.07934790285463077 and parameters: {'model_name': 'LR'}. Best is trial 8 with value: 0.07934790285463077.\n",
      "[I 2025-05-11 22:36:42,431] Trial 43 finished with value: 0.07934790285463077 and parameters: {'model_name': 'LR'}. Best is trial 8 with value: 0.07934790285463077.\n",
      "[I 2025-05-11 22:36:44,420] Trial 36 finished with value: 0.07934790285463077 and parameters: {'model_name': 'LR'}. Best is trial 8 with value: 0.07934790285463077.\n"
     ]
    },
    {
     "name": "stdout",
     "output_type": "stream",
     "text": [
      "🏃 View run melodic-hare-406 at: https://dagshub.com/akashagalaveaaa1/Taxi-Demand-Prediction-System.mlflow/#/experiments/0/runs/172f5af41b9a42c382f9015def65108d\n",
      "🧪 View experiment at: https://dagshub.com/akashagalaveaaa1/Taxi-Demand-Prediction-System.mlflow/#/experiments/0\n",
      "🏃 View run unique-crane-80 at: https://dagshub.com/akashagalaveaaa1/Taxi-Demand-Prediction-System.mlflow/#/experiments/0/runs/659658fbfeb446a4a3ad3e00ea8338f6\n",
      "🧪 View experiment at: https://dagshub.com/akashagalaveaaa1/Taxi-Demand-Prediction-System.mlflow/#/experiments/0\n",
      "🏃 View run monumental-hen-753 at: https://dagshub.com/akashagalaveaaa1/Taxi-Demand-Prediction-System.mlflow/#/experiments/0/runs/2120b142e3fd4ba5a3fd8aef20dc0782\n",
      "🧪 View experiment at: https://dagshub.com/akashagalaveaaa1/Taxi-Demand-Prediction-System.mlflow/#/experiments/0\n"
     ]
    },
    {
     "name": "stderr",
     "output_type": "stream",
     "text": [
      "[I 2025-05-11 22:36:53,419] Trial 39 finished with value: 0.07934790285463077 and parameters: {'model_name': 'LR'}. Best is trial 8 with value: 0.07934790285463077.\n",
      "[I 2025-05-11 22:36:54,417] Trial 44 finished with value: 0.07934790285463077 and parameters: {'model_name': 'LR'}. Best is trial 8 with value: 0.07934790285463077.\n",
      "[W 2025-05-11 22:36:55,394] Trial 46 failed with parameters: {} because of the following error: RestException('403: You have reached the limit of 100 experiments for a private repository in the free plan.\\nPlease upgrade to the Starter plan to increase the limit at https://dagshub.com/pricing?repo_id=75854').\n",
      "Traceback (most recent call last):\n",
      "  File \"c:\\Final Projects\\Taxi Demand Prediction System\\TAXI\\Lib\\site-packages\\optuna\\study\\_optimize.py\", line 197, in _run_trial\n",
      "    value_or_values = func(trial)\n",
      "                      ^^^^^^^^^^^\n",
      "  File \"C:\\Users\\akash\\AppData\\Local\\Temp\\ipykernel_10780\\2228030350.py\", line 3, in objective\n",
      "    with mlflow.start_run(nested=True) as child:\n",
      "         ^^^^^^^^^^^^^^^^^^^^^^^^^^^^^\n",
      "  File \"c:\\Final Projects\\Taxi Demand Prediction System\\TAXI\\Lib\\site-packages\\mlflow\\tracking\\fluent.py\", line 446, in start_run\n",
      "    active_run_obj = client.create_run(\n",
      "                     ^^^^^^^^^^^^^^^^^^\n",
      "  File \"c:\\Final Projects\\Taxi Demand Prediction System\\TAXI\\Lib\\site-packages\\mlflow\\tracking\\client.py\", line 418, in create_run\n",
      "    return self._tracking_client.create_run(experiment_id, start_time, tags, run_name)\n",
      "           ^^^^^^^^^^^^^^^^^^^^^^^^^^^^^^^^^^^^^^^^^^^^^^^^^^^^^^^^^^^^^^^^^^^^^^^^^^^\n",
      "  File \"c:\\Final Projects\\Taxi Demand Prediction System\\TAXI\\Lib\\site-packages\\mlflow\\tracking\\_tracking_service\\client.py\", line 170, in create_run\n",
      "    return self.store.create_run(\n",
      "           ^^^^^^^^^^^^^^^^^^^^^^\n",
      "  File \"c:\\Final Projects\\Taxi Demand Prediction System\\TAXI\\Lib\\site-packages\\mlflow\\store\\tracking\\rest_store.py\", line 220, in create_run\n",
      "    response_proto = self._call_endpoint(CreateRun, req_body)\n",
      "                     ^^^^^^^^^^^^^^^^^^^^^^^^^^^^^^^^^^^^^^^^\n",
      "  File \"c:\\Final Projects\\Taxi Demand Prediction System\\TAXI\\Lib\\site-packages\\mlflow\\store\\tracking\\rest_store.py\", line 90, in _call_endpoint\n",
      "    return call_endpoint(self.get_host_creds(), endpoint, method, json_body, response_proto)\n",
      "           ^^^^^^^^^^^^^^^^^^^^^^^^^^^^^^^^^^^^^^^^^^^^^^^^^^^^^^^^^^^^^^^^^^^^^^^^^^^^^^^^^\n",
      "  File \"c:\\Final Projects\\Taxi Demand Prediction System\\TAXI\\Lib\\site-packages\\mlflow\\utils\\rest_utils.py\", line 402, in call_endpoint\n",
      "    response = verify_rest_response(response, endpoint)\n",
      "               ^^^^^^^^^^^^^^^^^^^^^^^^^^^^^^^^^^^^^^^^\n",
      "  File \"c:\\Final Projects\\Taxi Demand Prediction System\\TAXI\\Lib\\site-packages\\mlflow\\utils\\rest_utils.py\", line 259, in verify_rest_response\n",
      "    raise RestException(json.loads(response.text))\n",
      "mlflow.exceptions.RestException: 403: You have reached the limit of 100 experiments for a private repository in the free plan.\n",
      "Please upgrade to the Starter plan to increase the limit at https://dagshub.com/pricing?repo_id=75854\n",
      "[W 2025-05-11 22:36:55,412] Trial 46 failed with value None.\n"
     ]
    },
    {
     "name": "stdout",
     "output_type": "stream",
     "text": [
      "🏃 View run bittersweet-grub-673 at: https://dagshub.com/akashagalaveaaa1/Taxi-Demand-Prediction-System.mlflow/#/experiments/0/runs/9df26b629474436ab26ed48ba4c5c45a\n",
      "🧪 View experiment at: https://dagshub.com/akashagalaveaaa1/Taxi-Demand-Prediction-System.mlflow/#/experiments/0\n"
     ]
    },
    {
     "name": "stderr",
     "output_type": "stream",
     "text": [
      "[I 2025-05-11 22:36:58,461] Trial 45 finished with value: 0.07934790285463077 and parameters: {'model_name': 'LR'}. Best is trial 8 with value: 0.07934790285463077.\n"
     ]
    },
    {
     "name": "stdout",
     "output_type": "stream",
     "text": [
      "🏃 View run adaptable-midge-422 at: https://dagshub.com/akashagalaveaaa1/Taxi-Demand-Prediction-System.mlflow/#/experiments/0/runs/27d5fab23bb149128e7a5bf4399ff20f\n",
      "🧪 View experiment at: https://dagshub.com/akashagalaveaaa1/Taxi-Demand-Prediction-System.mlflow/#/experiments/0\n"
     ]
    },
    {
     "name": "stderr",
     "output_type": "stream",
     "text": [
      "[I 2025-05-11 22:37:00,445] Trial 47 finished with value: 0.13029011350572198 and parameters: {'model_name': 'RF', 'n_estimators_rf': 10, 'max_depth_rf': 10}. Best is trial 8 with value: 0.07934790285463077.\n",
      "[I 2025-05-11 22:37:01,430] Trial 48 finished with value: 0.07934790285463077 and parameters: {'model_name': 'LR'}. Best is trial 8 with value: 0.07934790285463077.\n"
     ]
    },
    {
     "name": "stdout",
     "output_type": "stream",
     "text": [
      "🏃 View run best_model at: https://dagshub.com/akashagalaveaaa1/Taxi-Demand-Prediction-System.mlflow/#/experiments/0/runs/4b0ecb279b4d436db637cd5831ada58d\n",
      "🧪 View experiment at: https://dagshub.com/akashagalaveaaa1/Taxi-Demand-Prediction-System.mlflow/#/experiments/0\n"
     ]
    }
   ],
   "source": [
    "# optimize the objective function\n",
    "\n",
    "with mlflow.start_run(run_name=\"best_model\", nested=True) as parent:\n",
    "\n",
    "    # create a study object\n",
    "    study = optuna.create_study(study_name=\"model_selection\", direction=\"minimize\")\n",
    "    # optimize the objective function\n",
    "    study.optimize(func=objective, n_trials=50, n_jobs=-1)\n",
    "    \n",
    "    # log the best parameters\n",
    "    mlflow.log_params(study.best_params)\n",
    "    # log the best error value\n",
    "    mlflow.log_metric(\"Best_MAPE\", study.best_value)"
   ]
  },
  {
   "cell_type": "code",
   "execution_count": 61,
   "id": "854de4f2-f14e-4683-ad44-988f341643c2",
   "metadata": {},
   "outputs": [
    {
     "data": {
      "text/plain": [
       "0.07934790285463077"
      ]
     },
     "execution_count": 61,
     "metadata": {},
     "output_type": "execute_result"
    }
   ],
   "source": [
    "# best value\n",
    "\n",
    "study.best_value"
   ]
  },
  {
   "cell_type": "code",
   "execution_count": 62,
   "id": "2c31c7ba-af18-420e-afad-bb53f2877d2c",
   "metadata": {},
   "outputs": [
    {
     "data": {
      "text/plain": [
       "{'model_name': 'LR'}"
      ]
     },
     "execution_count": 62,
     "metadata": {},
     "output_type": "execute_result"
    }
   ],
   "source": [
    "# best parameters\n",
    "\n",
    "study.best_params"
   ]
  },
  {
   "cell_type": "code",
   "execution_count": 63,
   "id": "0c9205bd-c13a-494b-a2f9-d636799cee53",
   "metadata": {},
   "outputs": [
    {
     "data": {
      "text/plain": [
       "params_model_name\n",
       "LR      23\n",
       "XGBR    12\n",
       "GBR      9\n",
       "RF       4\n",
       "Name: count, dtype: int64"
      ]
     },
     "execution_count": 63,
     "metadata": {},
     "output_type": "execute_result"
    }
   ],
   "source": [
    "# model value counts\n",
    "\n",
    "study.trials_dataframe()['params_model_name'].value_counts()"
   ]
  },
  {
   "cell_type": "code",
   "execution_count": 68,
   "id": "b637e4ba-a17c-45af-9662-4c4855fb72ac",
   "metadata": {},
   "outputs": [
    {
     "name": "stdout",
     "output_type": "stream",
     "text": [
      "The training error is  0.0877801330456651\n",
      "The test error is  0.07934790285463077\n"
     ]
    }
   ],
   "source": [
    "# train the linear regression model\n",
    "\n",
    "lr = LinearRegression()\n",
    "\n",
    "lr.fit(X_train_encoded, y_train)\n",
    "\n",
    "# get predictions\n",
    "y_pred_train = lr.predict(X_train_encoded) \n",
    "y_pred_test = lr.predict(X_test_encoded)\n",
    "\n",
    "# loss\n",
    "\n",
    "mape_train = mean_absolute_percentage_error(y_train, y_pred_train)\n",
    "mape_test = mean_absolute_percentage_error(y_test, y_pred_test)\n",
    "\n",
    "print(\"The training error is \", mape_train)\n",
    "print(\"The test error is \", mape_test)"
   ]
  },
  {
   "cell_type": "code",
   "execution_count": 69,
   "id": "b6b9731e-15ff-4ff6-b667-05783ece831a",
   "metadata": {},
   "outputs": [
    {
     "data": {
      "text/plain": [
       "array([-2.33737604,  0.71512405, -0.55601505, -1.25311068, -3.20463231,\n",
       "       -0.86685973, -2.79925402, -3.62516859,  0.41386463, -2.9376376 ,\n",
       "       -1.97624678, -3.75050442,  0.51806283, -2.54033388, -2.43297463,\n",
       "        0.47632075,  0.61254786, -4.7417372 , -2.03077217, -1.26960984,\n",
       "       -4.03690273, -2.08863167, -1.0414428 ,  0.73561736, -0.99999442,\n",
       "       -0.85944985, -2.43098478,  0.67112238,  0.57385071, -0.11719951,\n",
       "       -0.28045898, -0.37180749, -0.5238324 , -0.4233113 , -0.34045774,\n",
       "       -0.54170892, -0.36264553, -0.2493965 , -0.31905518,  2.4912456 ])"
      ]
     },
     "execution_count": 69,
     "metadata": {},
     "output_type": "execute_result"
    }
   ],
   "source": [
    "lr.coef_"
   ]
  },
  {
   "cell_type": "code",
   "execution_count": 70,
   "id": "38cb6832-6427-41ec-88d9-f141dac4e35f",
   "metadata": {},
   "outputs": [],
   "source": [
    "def tune_ridge(trial):\n",
    "    # hyperparameter space\n",
    "    alpha = trial.suggest_float(\"alpha\",30,100)\n",
    "    \n",
    "    # make the model object\n",
    "    ridge = Ridge(alpha=alpha, random_state=42)\n",
    "    \n",
    "    # train the model\n",
    "    ridge.fit(X_train_encoded, y_train)\n",
    "    \n",
    "    # get predictions\n",
    "    y_pred = ridge.predict(X_test_encoded)\n",
    "    \n",
    "    # calculate loss\n",
    "    loss = mean_absolute_percentage_error(y_test, y_pred)\n",
    "\n",
    "    return loss\n",
    "        "
   ]
  },
  {
   "cell_type": "code",
   "execution_count": 71,
   "id": "3bf196aa-e39a-429c-b1f8-67881330a389",
   "metadata": {},
   "outputs": [
    {
     "name": "stderr",
     "output_type": "stream",
     "text": [
      "[I 2025-05-11 22:42:07,539] A new study created in memory with name: tune_model\n"
     ]
    }
   ],
   "source": [
    "# create study\n",
    "\n",
    "study = optuna.create_study(study_name=\"tune_model\", direction=\"minimize\")"
   ]
  },
  {
   "cell_type": "code",
   "execution_count": 72,
   "id": "fb61c41e-1479-4d26-8faf-fdf3643c2a51",
   "metadata": {},
   "outputs": [
    {
     "data": {
      "application/vnd.jupyter.widget-view+json": {
       "model_id": "0237d1961fd34a82ad744ec75216bd48",
       "version_major": 2,
       "version_minor": 0
      },
      "text/plain": [
       "  0%|          | 0/100 [00:00<?, ?it/s]"
      ]
     },
     "metadata": {},
     "output_type": "display_data"
    },
    {
     "name": "stdout",
     "output_type": "stream",
     "text": [
      "[I 2025-05-11 22:42:12,124] Trial 7 finished with value: 0.07918731340757482 and parameters: {'alpha': 82.35288129589719}. Best is trial 1 with value: 0.07918274413809458.\n",
      "[I 2025-05-11 22:42:12,127] Trial 1 finished with value: 0.07918274413809458 and parameters: {'alpha': 85.64668690776647}. Best is trial 1 with value: 0.07918274413809458.\n",
      "[I 2025-05-11 22:42:12,345] Trial 9 finished with value: 0.0791850962110863 and parameters: {'alpha': 83.94035572728858}. Best is trial 1 with value: 0.07918274413809458.\n",
      "[I 2025-05-11 22:42:12,431] Trial 8 finished with value: 0.07922152819872504 and parameters: {'alpha': 59.54826345670036}. Best is trial 1 with value: 0.07918274413809458.\n",
      "[I 2025-05-11 22:42:12,433] Trial 2 finished with value: 0.0792245564542275 and parameters: {'alpha': 57.684611192666495}. Best is trial 1 with value: 0.07918274413809458.\n",
      "[I 2025-05-11 22:42:12,434] Trial 10 finished with value: 0.07925183372755243 and parameters: {'alpha': 42.13778557747433}. Best is trial 1 with value: 0.07918274413809458.\n",
      "[I 2025-05-11 22:42:12,436] Trial 3 finished with value: 0.07917045086987896 and parameters: {'alpha': 94.8880861996812}. Best is trial 3 with value: 0.07917045086987896.\n",
      "[I 2025-05-11 22:42:12,437] Trial 6 finished with value: 0.07919001512794986 and parameters: {'alpha': 80.44947500019632}. Best is trial 3 with value: 0.07917045086987896.\n",
      "[I 2025-05-11 22:42:12,438] Trial 4 finished with value: 0.0791878903711333 and parameters: {'alpha': 81.94485015855892}. Best is trial 3 with value: 0.07917045086987896.\n",
      "[I 2025-05-11 22:42:12,443] Trial 5 finished with value: 0.0792401061005806 and parameters: {'alpha': 48.54938186551596}. Best is trial 3 with value: 0.07917045086987896.\n",
      "[I 2025-05-11 22:42:12,447] Trial 0 finished with value: 0.0792343698918902 and parameters: {'alpha': 51.84126964430802}. Best is trial 3 with value: 0.07917045086987896.\n",
      "[I 2025-05-11 22:42:12,491] Trial 11 finished with value: 0.07926795579603282 and parameters: {'alpha': 33.8244269535693}. Best is trial 3 with value: 0.07917045086987896.\n",
      "[I 2025-05-11 22:42:12,636] Trial 13 finished with value: 0.07922479133362952 and parameters: {'alpha': 57.54190610465348}. Best is trial 3 with value: 0.07917045086987896.\n",
      "[I 2025-05-11 22:42:12,671] Trial 12 finished with value: 0.07917073120207337 and parameters: {'alpha': 94.66923254107539}. Best is trial 3 with value: 0.07917045086987896.\n",
      "[I 2025-05-11 22:42:12,946] Trial 14 finished with value: 0.07916601636779044 and parameters: {'alpha': 98.41720917932454}. Best is trial 14 with value: 0.07916601636779044.\n",
      "[I 2025-05-11 22:42:12,966] Trial 15 finished with value: 0.07916658036979936 and parameters: {'alpha': 97.96271960626866}. Best is trial 14 with value: 0.07916601636779044.\n",
      "[I 2025-05-11 22:42:12,976] Trial 17 finished with value: 0.07916932600337043 and parameters: {'alpha': 95.77242186416308}. Best is trial 14 with value: 0.07916601636779044.\n",
      "[I 2025-05-11 22:42:13,032] Trial 16 finished with value: 0.07916655295880086 and parameters: {'alpha': 97.9848042941482}. Best is trial 14 with value: 0.07916601636779044.\n",
      "[I 2025-05-11 22:42:13,109] Trial 18 finished with value: 0.07916543380517112 and parameters: {'alpha': 98.88717752024299}. Best is trial 18 with value: 0.07916543380517112.\n",
      "[I 2025-05-11 22:42:13,172] Trial 19 finished with value: 0.07916417435914948 and parameters: {'alpha': 99.91137033435423}. Best is trial 19 with value: 0.07916417435914948.\n",
      "[I 2025-05-11 22:42:13,275] Trial 20 finished with value: 0.07917252475856748 and parameters: {'alpha': 93.28595279060434}. Best is trial 19 with value: 0.07916417435914948.\n",
      "[I 2025-05-11 22:42:13,280] Trial 22 finished with value: 0.07916488548016269 and parameters: {'alpha': 99.33229216098653}. Best is trial 19 with value: 0.07916417435914948.\n",
      "[I 2025-05-11 22:42:13,284] Trial 25 finished with value: 0.079169156179226 and parameters: {'alpha': 95.90722426498378}. Best is trial 19 with value: 0.07916417435914948.\n",
      "[I 2025-05-11 22:42:13,293] Trial 23 finished with value: 0.07916431177471722 and parameters: {'alpha': 99.79943756326384}. Best is trial 19 with value: 0.07916417435914948.\n",
      "[I 2025-05-11 22:42:13,336] Trial 24 finished with value: 0.07916445403981981 and parameters: {'alpha': 99.68356517963603}. Best is trial 19 with value: 0.07916417435914948.\n",
      "[I 2025-05-11 22:42:13,340] Trial 26 finished with value: 0.07920364890442474 and parameters: {'alpha': 71.10009687256212}. Best is trial 19 with value: 0.07916417435914948.\n",
      "[I 2025-05-11 22:42:13,349] Trial 21 finished with value: 0.07917256002566479 and parameters: {'alpha': 93.25895124067897}. Best is trial 19 with value: 0.07916417435914948.\n",
      "[I 2025-05-11 22:42:13,420] Trial 27 finished with value: 0.07920557120774324 and parameters: {'alpha': 69.81254044455099}. Best is trial 19 with value: 0.07916417435914948.\n",
      "[I 2025-05-11 22:42:13,461] Trial 28 finished with value: 0.0792024380450963 and parameters: {'alpha': 71.91467724776584}. Best is trial 19 with value: 0.07916417435914948.\n",
      "[I 2025-05-11 22:42:13,615] Trial 29 finished with value: 0.07920379635678032 and parameters: {'alpha': 71.00106712773666}. Best is trial 19 with value: 0.07916417435914948.\n",
      "[I 2025-05-11 22:42:13,697] Trial 30 finished with value: 0.07919807036223303 and parameters: {'alpha': 74.87602890425822}. Best is trial 19 with value: 0.07916417435914948.\n",
      "[I 2025-05-11 22:42:13,792] Trial 31 finished with value: 0.0792011698918319 and parameters: {'alpha': 72.77093605620564}. Best is trial 19 with value: 0.07916417435914948.\n",
      "[I 2025-05-11 22:42:13,804] Trial 34 finished with value: 0.07917872881312613 and parameters: {'alpha': 88.61014433650348}. Best is trial 19 with value: 0.07916417435914948.\n",
      "[I 2025-05-11 22:42:13,810] Trial 33 finished with value: 0.07919765296762307 and parameters: {'alpha': 75.16108339733834}. Best is trial 19 with value: 0.07916417435914948.\n",
      "[I 2025-05-11 22:42:13,821] Trial 32 finished with value: 0.07919967108757699 and parameters: {'alpha': 73.78626462372208}. Best is trial 19 with value: 0.07916417435914948.\n",
      "[I 2025-05-11 22:42:13,881] Trial 35 finished with value: 0.07917750442693715 and parameters: {'alpha': 89.52209865474713}. Best is trial 19 with value: 0.07916417435914948.\n",
      "[I 2025-05-11 22:42:13,933] Trial 36 finished with value: 0.07917797316780063 and parameters: {'alpha': 89.17270388514278}. Best is trial 19 with value: 0.07916417435914948.\n",
      "[I 2025-05-11 22:42:13,934] Trial 37 finished with value: 0.07917975917335925 and parameters: {'alpha': 87.84568381743719}. Best is trial 19 with value: 0.07916417435914948.\n",
      "[I 2025-05-11 22:42:14,067] Trial 40 finished with value: 0.07917609578826175 and parameters: {'alpha': 90.57685017927601}. Best is trial 19 with value: 0.07916417435914948.\n",
      "[I 2025-05-11 22:42:14,070] Trial 38 finished with value: 0.07917771929099124 and parameters: {'alpha': 89.36189648479781}. Best is trial 19 with value: 0.07916417435914948.\n",
      "[I 2025-05-11 22:42:14,151] Trial 39 finished with value: 0.07917877425641832 and parameters: {'alpha': 88.57637114368357}. Best is trial 19 with value: 0.07916417435914948.\n",
      "[I 2025-05-11 22:42:14,268] Trial 41 finished with value: 0.07917854761904533 and parameters: {'alpha': 88.7448366814618}. Best is trial 19 with value: 0.07916417435914948.\n",
      "[I 2025-05-11 22:42:14,308] Trial 42 finished with value: 0.07917786622187173 and parameters: {'alpha': 89.25239727111904}. Best is trial 19 with value: 0.07916417435914948.\n",
      "[I 2025-05-11 22:42:14,334] Trial 43 finished with value: 0.07917773522318276 and parameters: {'alpha': 89.35002256757794}. Best is trial 19 with value: 0.07916417435914948.\n",
      "[I 2025-05-11 22:42:14,348] Trial 44 finished with value: 0.07917782348269461 and parameters: {'alpha': 89.28424714350862}. Best is trial 19 with value: 0.07916417435914948.\n",
      "[I 2025-05-11 22:42:14,550] Trial 46 finished with value: 0.07917449802221688 and parameters: {'alpha': 91.78363692801547}. Best is trial 19 with value: 0.07916417435914948.\n",
      "[I 2025-05-11 22:42:14,557] Trial 47 finished with value: 0.0791750961787489 and parameters: {'alpha': 91.33080795613698}. Best is trial 19 with value: 0.07916417435914948.\n",
      "[I 2025-05-11 22:42:14,559] Trial 48 finished with value: 0.07919295387970206 and parameters: {'alpha': 78.39285104577183}. Best is trial 19 with value: 0.07916417435914948.\n",
      "[I 2025-05-11 22:42:14,570] Trial 45 finished with value: 0.07917452683114458 and parameters: {'alpha': 91.76182305884618}. Best is trial 19 with value: 0.07916417435914948.\n",
      "[I 2025-05-11 22:42:14,579] Trial 49 finished with value: 0.07919158213405121 and parameters: {'alpha': 79.35143689485439}. Best is trial 19 with value: 0.07916417435914948.\n",
      "[I 2025-05-11 22:42:14,820] Trial 51 finished with value: 0.0791641132397318 and parameters: {'alpha': 99.96115880125298}. Best is trial 51 with value: 0.0791641132397318.\n",
      "[I 2025-05-11 22:42:14,845] Trial 50 finished with value: 0.0791642896906205 and parameters: {'alpha': 99.81742563099182}. Best is trial 51 with value: 0.0791641132397318.\n",
      "[I 2025-05-11 22:42:14,881] Trial 52 finished with value: 0.07916496153666454 and parameters: {'alpha': 99.27038174210547}. Best is trial 51 with value: 0.0791641132397318.\n",
      "[I 2025-05-11 22:42:14,899] Trial 53 finished with value: 0.07916411250416619 and parameters: {'alpha': 99.96175801187492}. Best is trial 53 with value: 0.07916411250416619.\n",
      "[I 2025-05-11 22:42:14,994] Trial 55 finished with value: 0.07916500412258128 and parameters: {'alpha': 99.23572111539448}. Best is trial 53 with value: 0.07916411250416619.\n",
      "[I 2025-05-11 22:42:15,238] Trial 54 finished with value: 0.07916479775948465 and parameters: {'alpha': 99.40370110725982}. Best is trial 53 with value: 0.07916411250416619.\n",
      "[I 2025-05-11 22:42:15,293] Trial 58 finished with value: 0.07918367042294816 and parameters: {'alpha': 84.97116002284484}. Best is trial 53 with value: 0.07916411250416619.\n",
      "[I 2025-05-11 22:42:15,382] Trial 56 finished with value: 0.07916469709648569 and parameters: {'alpha': 99.48565078791106}. Best is trial 53 with value: 0.07916411250416619.\n",
      "[I 2025-05-11 22:42:15,501] Trial 57 finished with value: 0.07916437186074676 and parameters: {'alpha': 99.75049724866425}. Best is trial 53 with value: 0.07916411250416619.\n",
      "[I 2025-05-11 22:42:15,512] Trial 61 finished with value: 0.07918376735280128 and parameters: {'alpha': 84.9006745079782}. Best is trial 53 with value: 0.07916411250416619.\n",
      "[I 2025-05-11 22:42:15,691] Trial 62 finished with value: 0.07916856024602659 and parameters: {'alpha': 96.3803861363822}. Best is trial 53 with value: 0.07916411250416619.\n",
      "[I 2025-05-11 22:42:15,730] Trial 60 finished with value: 0.0791643685667052 and parameters: {'alpha': 99.75318020824908}. Best is trial 53 with value: 0.07916411250416619.\n",
      "[I 2025-05-11 22:42:15,733] Trial 59 finished with value: 0.07916584423984008 and parameters: {'alpha': 98.55595906159246}. Best is trial 53 with value: 0.07916411250416619.\n",
      "[I 2025-05-11 22:42:15,783] Trial 66 finished with value: 0.07918455100949756 and parameters: {'alpha': 84.33335663333608}. Best is trial 53 with value: 0.07916411250416619.\n",
      "[I 2025-05-11 22:42:15,783] Trial 64 finished with value: 0.07918397552240931 and parameters: {'alpha': 84.74951722297013}. Best is trial 53 with value: 0.07916411250416619.\n",
      "[I 2025-05-11 22:42:15,783] Trial 63 finished with value: 0.0791708424812689 and parameters: {'alpha': 94.5827224817736}. Best is trial 53 with value: 0.07916411250416619.\n",
      "[I 2025-05-11 22:42:15,863] Trial 65 finished with value: 0.07916829589779502 and parameters: {'alpha': 96.59036049994454}. Best is trial 53 with value: 0.07916411250416619.\n",
      "[I 2025-05-11 22:42:15,911] Trial 67 finished with value: 0.0791689731667284 and parameters: {'alpha': 96.05251200400316}. Best is trial 53 with value: 0.07916411250416619.\n",
      "[I 2025-05-11 22:42:15,914] Trial 68 finished with value: 0.07916939216247494 and parameters: {'alpha': 95.71991037585435}. Best is trial 53 with value: 0.07916411250416619.\n",
      "[I 2025-05-11 22:42:16,153] Trial 69 finished with value: 0.07916967610164546 and parameters: {'alpha': 95.49460258039144}. Best is trial 53 with value: 0.07916411250416619.\n",
      "[I 2025-05-11 22:42:16,189] Trial 70 finished with value: 0.07917135032336416 and parameters: {'alpha': 94.18879846629645}. Best is trial 53 with value: 0.07916411250416619.\n",
      "[I 2025-05-11 22:42:16,246] Trial 71 finished with value: 0.07916862717677946 and parameters: {'alpha': 96.32723398170955}. Best is trial 53 with value: 0.07916411250416619.\n",
      "[I 2025-05-11 22:42:16,340] Trial 72 finished with value: 0.07917164778590405 and parameters: {'alpha': 93.95851659948234}. Best is trial 53 with value: 0.07916411250416619.\n",
      "[I 2025-05-11 22:42:16,508] Trial 74 finished with value: 0.07917230829121072 and parameters: {'alpha': 93.45171386963287}. Best is trial 53 with value: 0.07916411250416619.\n",
      "[I 2025-05-11 22:42:16,522] Trial 73 finished with value: 0.07924561998249988 and parameters: {'alpha': 45.46954935808264}. Best is trial 53 with value: 0.07916411250416619.\n",
      "[I 2025-05-11 22:42:16,546] Trial 76 finished with value: 0.07923881541499427 and parameters: {'alpha': 49.281635284395804}. Best is trial 53 with value: 0.07916411250416619.\n",
      "[I 2025-05-11 22:42:16,546] Trial 75 finished with value: 0.07924240131979234 and parameters: {'alpha': 47.26078687352901}. Best is trial 53 with value: 0.07916411250416619.\n",
      "[I 2025-05-11 22:42:16,601] Trial 77 finished with value: 0.07924469409092937 and parameters: {'alpha': 45.981475624332205}. Best is trial 53 with value: 0.07916411250416619.\n",
      "[I 2025-05-11 22:42:16,688] Trial 78 finished with value: 0.0791729625083823 and parameters: {'alpha': 92.95089232117974}. Best is trial 53 with value: 0.07916411250416619.\n",
      "[I 2025-05-11 22:42:16,880] Trial 79 finished with value: 0.07926229136110038 and parameters: {'alpha': 36.68461295923281}. Best is trial 53 with value: 0.07916411250416619.\n",
      "[I 2025-05-11 22:42:16,946] Trial 80 finished with value: 0.07925897110829713 and parameters: {'alpha': 38.39148530629514}. Best is trial 53 with value: 0.07916411250416619.\n",
      "[I 2025-05-11 22:42:16,981] Trial 81 finished with value: 0.07916411453302785 and parameters: {'alpha': 99.96010524783564}. Best is trial 53 with value: 0.07916411250416619.\n",
      "[I 2025-05-11 22:42:17,052] Trial 82 finished with value: 0.07920883353952803 and parameters: {'alpha': 67.65114269111564}. Best is trial 53 with value: 0.07916411250416619.\n",
      "[I 2025-05-11 22:42:17,195] Trial 84 finished with value: 0.07920863627850097 and parameters: {'alpha': 67.78101437328154}. Best is trial 53 with value: 0.07916411250416619.\n",
      "[I 2025-05-11 22:42:17,199] Trial 83 finished with value: 0.07916705806215271 and parameters: {'alpha': 97.57806293695884}. Best is trial 53 with value: 0.07916411250416619.\n",
      "[I 2025-05-11 22:42:17,271] Trial 85 finished with value: 0.07916700089278662 and parameters: {'alpha': 97.6240730754226}. Best is trial 53 with value: 0.07916411250416619.\n",
      "[I 2025-05-11 22:42:17,410] Trial 86 finished with value: 0.07916670376194108 and parameters: {'alpha': 97.86331898013492}. Best is trial 53 with value: 0.07916411250416619.\n",
      "[I 2025-05-11 22:42:17,489] Trial 87 finished with value: 0.079213573828593 and parameters: {'alpha': 64.5648701404184}. Best is trial 53 with value: 0.07916411250416619.\n",
      "[I 2025-05-11 22:42:17,501] Trial 89 finished with value: 0.07921659966859072 and parameters: {'alpha': 62.63286649596092}. Best is trial 53 with value: 0.07916411250416619.\n",
      "[I 2025-05-11 22:42:17,525] Trial 88 finished with value: 0.07922542137846919 and parameters: {'alpha': 57.15965910750069}. Best is trial 53 with value: 0.07916411250416619.\n",
      "[I 2025-05-11 22:42:17,573] Trial 90 finished with value: 0.07921523318974351 and parameters: {'alpha': 63.49988932551438}. Best is trial 53 with value: 0.07916411250416619.\n",
      "[I 2025-05-11 22:42:17,596] Trial 91 finished with value: 0.07916739106622517 and parameters: {'alpha': 97.31146749736125}. Best is trial 53 with value: 0.07916411250416619.\n",
      "[I 2025-05-11 22:42:17,698] Trial 92 finished with value: 0.07916782094566555 and parameters: {'alpha': 96.96825802577094}. Best is trial 53 with value: 0.07916411250416619.\n",
      "[I 2025-05-11 22:42:17,713] Trial 93 finished with value: 0.07916702275643452 and parameters: {'alpha': 97.6064769172549}. Best is trial 53 with value: 0.07916411250416619.\n",
      "[I 2025-05-11 22:42:17,740] Trial 95 finished with value: 0.07916409574411024 and parameters: {'alpha': 99.97541126726539}. Best is trial 95 with value: 0.07916409574411024.\n",
      "[I 2025-05-11 22:42:17,744] Trial 94 finished with value: 0.07922329312595032 and parameters: {'alpha': 58.457783573634586}. Best is trial 95 with value: 0.07916409574411024.\n",
      "[I 2025-05-11 22:42:17,889] Trial 96 finished with value: 0.07916436312155556 and parameters: {'alpha': 99.7576152360071}. Best is trial 95 with value: 0.07916409574411024.\n",
      "[I 2025-05-11 22:42:18,058] Trial 97 finished with value: 0.07916424081694205 and parameters: {'alpha': 99.85723543531277}. Best is trial 95 with value: 0.07916409574411024.\n",
      "[I 2025-05-11 22:42:18,082] Trial 99 finished with value: 0.07916434817589864 and parameters: {'alpha': 99.76978842402434}. Best is trial 95 with value: 0.07916409574411024.\n",
      "[I 2025-05-11 22:42:18,095] Trial 98 finished with value: 0.0791644163589755 and parameters: {'alpha': 99.71425450264843}. Best is trial 95 with value: 0.07916409574411024.\n"
     ]
    }
   ],
   "source": [
    "# optimize\n",
    "\n",
    "study.optimize(func=tune_ridge, n_trials=100, n_jobs=-1, show_progress_bar=True)"
   ]
  },
  {
   "cell_type": "code",
   "execution_count": 73,
   "id": "d7d1a265-2f90-462f-b159-daaba980dfcf",
   "metadata": {},
   "outputs": [
    {
     "data": {
      "text/plain": [
       "{'alpha': 99.97541126726539}"
      ]
     },
     "execution_count": 73,
     "metadata": {},
     "output_type": "execute_result"
    }
   ],
   "source": [
    "# best parameters\n",
    "\n",
    "study.best_params"
   ]
  },
  {
   "cell_type": "code",
   "execution_count": 74,
   "id": "13affecf-333a-4a82-bd94-c581c6b5a20b",
   "metadata": {},
   "outputs": [
    {
     "data": {
      "text/plain": [
       "0.07916409574411024"
      ]
     },
     "execution_count": 74,
     "metadata": {},
     "output_type": "execute_result"
    }
   ],
   "source": [
    "# best value\n",
    "\n",
    "study.best_value"
   ]
  },
  {
   "cell_type": "code",
   "execution_count": null,
   "id": "91da86db-e689-49a5-a384-194be3b6dbf0",
   "metadata": {},
   "outputs": [],
   "source": []
  }
 ],
 "metadata": {
  "kernelspec": {
   "display_name": "TAXI",
   "language": "python",
   "name": "python3"
  },
  "language_info": {
   "codemirror_mode": {
    "name": "ipython",
    "version": 3
   },
   "file_extension": ".py",
   "mimetype": "text/x-python",
   "name": "python",
   "nbconvert_exporter": "python",
   "pygments_lexer": "ipython3",
   "version": "3.11.7"
  }
 },
 "nbformat": 4,
 "nbformat_minor": 5
}
